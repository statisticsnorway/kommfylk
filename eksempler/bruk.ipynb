{
 "cells": [
  {
   "cell_type": "code",
   "execution_count": 2,
   "metadata": {},
   "outputs": [],
   "source": [
    "import sys\n",
    "sys.path.append(r\"C:\\Users\\ort\\OneDrive - Statistisk sentralbyrå\\Dokumenter\\GitHub\")\n",
    "\n",
    "from kommfylk import * #midlr. wildcard import\n",
    "\n",
    "import geopandas as gpd\n",
    "import pandas as pd"
   ]
  },
  {
   "cell_type": "markdown",
   "metadata": {},
   "source": [
    "### kommuner_fra_api()"
   ]
  },
  {
   "cell_type": "code",
   "execution_count": 3,
   "metadata": {},
   "outputs": [
    {
     "name": "stdout",
     "output_type": "stream",
     "text": [
      "['0301', '1101', '1103', '1106', '1108', '1111', '1112', '1114', '1119', '1120', '1121', '1122', '1124', '1127', '1130', '1133', '1134', '1135', '1144', '1145', '1146', '1149', '1151', '1160', '1505', '1506', '1507', '1511', '1514', '1515', '1516', '1517', '1520', '1525', '1528', '1531', '1532', '1535', '1539', '1547', '1554', '1557', '1560', '1563', '1566', '1573', '1576', '1577', '1578', '1579', '1804', '1806', '1811', '1812', '1813', '1815', '1816', '1818', '1820', '1822', '1824', '1825', '1826', '1827', '1828', '1832', '1833', '1834', '1835', '1836', '1837', '1838', '1839', '1840', '1841', '1845', '1848', '1851', '1853', '1856', '1857', '1859', '1860', '1865', '1866', '1867', '1868', '1870', '1871', '1874', '1875', '3001', '3002', '3003', '3004', '3005', '3006', '3007', '3011', '3012', '3013', '3014', '3015', '3016', '3017', '3018', '3019', '3020', '3021', '3022', '3023', '3024', '3025', '3026', '3027', '3028', '3029', '3030', '3031', '3032', '3033', '3034', '3035', '3036', '3037', '3038', '3039', '3040', '3041', '3042', '3043', '3044', '3045', '3046', '3047', '3048', '3049', '3050', '3051', '3052', '3053', '3054', '3401', '3403', '3405', '3407', '3411', '3412', '3413', '3414', '3415', '3416', '3417', '3418', '3419', '3420', '3421', '3422', '3423', '3424', '3425', '3426', '3427', '3428', '3429', '3430', '3431', '3432', '3433', '3434', '3435', '3436', '3437', '3438', '3439', '3440', '3441', '3442', '3443', '3446', '3447', '3448', '3449', '3450', '3451', '3452', '3453', '3454', '3801', '3802', '3803', '3804', '3805', '3806', '3807', '3808', '3811', '3812', '3813', '3814', '3815', '3816', '3817', '3818', '3819', '3820', '3821', '3822', '3823', '3824', '3825', '4201', '4202', '4203', '4204', '4205', '4206', '4207', '4211', '4212', '4213', '4214', '4215', '4216', '4217', '4218', '4219', '4220', '4221', '4222', '4223', '4224', '4225', '4226', '4227', '4228', '4601', '4602', '4611', '4612', '4613', '4614', '4615', '4616', '4617', '4618', '4619', '4620', '4621', '4622', '4623', '4624', '4625', '4626', '4627', '4628', '4629', '4630', '4631', '4632', '4633', '4634', '4635', '4636', '4637', '4638', '4639', '4640', '4641', '4642', '4643', '4644', '4645', '4646', '4647', '4648', '4649', '4650', '4651', '5001', '5006', '5007', '5014', '5020', '5021', '5022', '5025', '5026', '5027', '5028', '5029', '5031', '5032', '5033', '5034', '5035', '5036', '5037', '5038', '5041', '5042', '5043', '5044', '5045', '5046', '5047', '5049', '5052', '5053', '5054', '5055', '5056', '5057', '5058', '5059', '5060', '5061', '5401', '5402', '5403', '5404', '5405', '5406', '5411', '5412', '5413', '5414', '5415', '5416', '5417', '5418', '5419', '5420', '5421', '5422', '5423', '5424', '5425', '5426', '5427', '5428', '5429', '5430', '5432', '5433', '5434', '5435', '5436', '5437', '5438', '5439', '5440', '5441', '5442', '5443', '5444']\n"
     ]
    }
   ],
   "source": [
    "kommuneliste = kommuner_fra_api()\n",
    "print(kommuneliste)"
   ]
  },
  {
   "cell_type": "code",
   "execution_count": 3,
   "metadata": {},
   "outputs": [
    {
     "name": "stdout",
     "output_type": "stream",
     "text": [
      "['0101', '0102', '0103', '0104', '0111', '0113', '0114', '0115', '0118', '0119', '0121', '0122', '0123', '0124', '0125', '0127', '0128', '0130', '0131', '0133', '0134', '0135', '0136', '0137', '0138', '0211', '0213', '0214', '0215', '0216', '0217', '0219', '0220', '0221', '0226', '0227', '0228', '0229', '0230', '0231', '0233', '0234', '0235', '0236', '0237', '0238', '0239', '0301', '0401', '0402', '0412', '0414', '0415', '0417', '0418', '0419', '0420', '0423', '0425', '0426', '0427', '0428', '0429', '0430', '0432', '0434', '0436', '0437', '0438', '0439', '0441', '0501', '0502', '0511', '0512', '0513', '0514', '0515', '0516', '0517', '0519', '0520', '0521', '0522', '0528', '0529', '0532', '0533', '0534', '0536', '0538', '0540', '0541', '0542', '0543', '0544', '0545', '0602', '0604', '0605', '0612', '0615', '0616', '0617', '0618', '0619', '0620', '0621', '0622', '0623', '0624', '0625', '0626', '0627', '0628', '0631', '0632', '0633', '0702', '0703', '0705', '0706', '0707', '0708', '0711', '0713', '0714', '0716', '0717', '0718', '0719', '0720', '0721', '0722', '0723', '0725', '0726', '0727', '0728', '0805', '0806', '0807', '0811', '0814', '0815', '0817', '0819', '0821', '0822', '0826', '0827', '0828', '0829', '0830', '0831', '0833', '0834', '0901', '0903', '0904', '0911', '0912', '0914', '0918', '0919', '0920', '0921', '0922', '0926', '0928', '0929', '0935', '0937', '0938', '0940', '0941', '1001', '1002', '1003', '1004', '1014', '1017', '1018', '1021', '1026', '1027', '1029', '1032', '1034', '1037', '1046', '1101', '1102', '1103', '1106', '1111', '1112', '1114', '1119', '1120', '1121', '1122', '1124', '1127', '1129', '1130', '1133', '1134', '1135', '1141', '1142', '1144', '1145', '1146', '1149', '1151', '1154', '1201', '1211', '1214', '1216', '1219', '1221', '1222', '1223', '1224', '1227', '1228', '1231', '1232', '1233', '1234', '1235', '1238', '1241', '1242', '1243', '1244', '1245', '1246', '1247', '1251', '1252', '1253', '1256', '1259', '1260', '1263', '1264', '1265', '1266', '1401', '1411', '1412', '1413', '1416', '1417', '1418', '1419', '1420', '1421', '1422', '1424', '1426', '1428', '1429', '1430', '1431', '1432', '1433', '1438', '1439', '1441', '1443', '1444', '1445', '1449', '1502', '1503', '1504', '1511', '1514', '1515', '1516', '1517', '1519', '1520', '1523', '1524', '1525', '1526', '1528', '1529', '1531', '1532', '1534', '1535', '1539', '1543', '1545', '1546', '1547', '1548', '1551', '1554', '1556', '1557', '1560', '1563', '1566', '1567', '1569', '1571', '1572', '1573', '1601', '1612', '1613', '1617', '1620', '1621', '1622', '1624', '1627', '1630', '1632', '1633', '1634', '1635', '1636', '1638', '1640', '1644', '1648', '1653', '1657', '1662', '1663', '1664', '1665', '1702', '1703', '1711', '1714', '1717', '1718', '1719', '1721', '1723', '1724', '1725', '1729', '1736', '1738', '1739', '1740', '1742', '1743', '1744', '1748', '1749', '1750', '1751', '1755', '1804', '1805', '1811', '1812', '1813', '1815', '1816', '1818', '1820', '1822', '1824', '1825', '1826', '1827', '1828', '1832', '1833', '1834', '1835', '1836', '1837', '1838', '1839', '1840', '1841', '1842', '1845', '1848', '1849', '1850', '1851', '1852', '1853', '1854', '1856', '1857', '1859', '1860', '1865', '1866', '1867', '1868', '1870', '1871', '1874', '1901', '1902', '1911', '1913', '1915', '1917', '1919', '1920', '1922', '1923', '1924', '1925', '1926', '1927', '1928', '1929', '1931', '1933', '1936', '1938', '1939', '1940', '1941', '1942', '1943', '2001', '2002', '2003', '2011', '2012', '2014', '2015', '2016', '2017', '2018', '2019', '2020', '2021', '2022', '2023', '2024', '2025', '2027', '2028', '2030']\n"
     ]
    }
   ],
   "source": [
    "kommuneliste = kommuner_fra_api(1980)\n",
    "print(kommuneliste)"
   ]
  },
  {
   "cell_type": "code",
   "execution_count": 4,
   "metadata": {},
   "outputs": [
    {
     "data": {
      "text/html": [
       "<div>\n",
       "<style scoped>\n",
       "    .dataframe tbody tr th:only-of-type {\n",
       "        vertical-align: middle;\n",
       "    }\n",
       "\n",
       "    .dataframe tbody tr th {\n",
       "        vertical-align: top;\n",
       "    }\n",
       "\n",
       "    .dataframe thead th {\n",
       "        text-align: right;\n",
       "    }\n",
       "</style>\n",
       "<table border=\"1\" class=\"dataframe\">\n",
       "  <thead>\n",
       "    <tr style=\"text-align: right;\">\n",
       "      <th></th>\n",
       "      <th>KOMMUNENR</th>\n",
       "      <th>NAVN</th>\n",
       "    </tr>\n",
       "  </thead>\n",
       "  <tbody>\n",
       "    <tr>\n",
       "      <th>0</th>\n",
       "      <td>0301</td>\n",
       "      <td>Oslo</td>\n",
       "    </tr>\n",
       "    <tr>\n",
       "      <th>1</th>\n",
       "      <td>1101</td>\n",
       "      <td>Eigersund</td>\n",
       "    </tr>\n",
       "    <tr>\n",
       "      <th>2</th>\n",
       "      <td>1103</td>\n",
       "      <td>Stavanger</td>\n",
       "    </tr>\n",
       "    <tr>\n",
       "      <th>3</th>\n",
       "      <td>1106</td>\n",
       "      <td>Haugesund</td>\n",
       "    </tr>\n",
       "    <tr>\n",
       "      <th>4</th>\n",
       "      <td>1108</td>\n",
       "      <td>Sandnes</td>\n",
       "    </tr>\n",
       "    <tr>\n",
       "      <th>...</th>\n",
       "      <td>...</td>\n",
       "      <td>...</td>\n",
       "    </tr>\n",
       "    <tr>\n",
       "      <th>351</th>\n",
       "      <td>5440</td>\n",
       "      <td>Berlevåg</td>\n",
       "    </tr>\n",
       "    <tr>\n",
       "      <th>352</th>\n",
       "      <td>5441</td>\n",
       "      <td>Deatnu - Tana</td>\n",
       "    </tr>\n",
       "    <tr>\n",
       "      <th>353</th>\n",
       "      <td>5442</td>\n",
       "      <td>Unjárga - Nesseby</td>\n",
       "    </tr>\n",
       "    <tr>\n",
       "      <th>354</th>\n",
       "      <td>5443</td>\n",
       "      <td>Båtsfjord</td>\n",
       "    </tr>\n",
       "    <tr>\n",
       "      <th>355</th>\n",
       "      <td>5444</td>\n",
       "      <td>Sør-Varanger</td>\n",
       "    </tr>\n",
       "  </tbody>\n",
       "</table>\n",
       "<p>356 rows × 2 columns</p>\n",
       "</div>"
      ],
      "text/plain": [
       "    KOMMUNENR               NAVN\n",
       "0        0301               Oslo\n",
       "1        1101          Eigersund\n",
       "2        1103          Stavanger\n",
       "3        1106          Haugesund\n",
       "4        1108            Sandnes\n",
       "..        ...                ...\n",
       "351      5440           Berlevåg\n",
       "352      5441      Deatnu - Tana\n",
       "353      5442  Unjárga - Nesseby\n",
       "354      5443          Båtsfjord\n",
       "355      5444       Sør-Varanger\n",
       "\n",
       "[356 rows x 2 columns]"
      ]
     },
     "execution_count": 4,
     "metadata": {},
     "output_type": "execute_result"
    }
   ],
   "source": [
    "kommuner_fra_api(2022, navn=True)"
   ]
  },
  {
   "cell_type": "code",
   "execution_count": 5,
   "metadata": {},
   "outputs": [
    {
     "data": {
      "text/html": [
       "<div>\n",
       "<style scoped>\n",
       "    .dataframe tbody tr th:only-of-type {\n",
       "        vertical-align: middle;\n",
       "    }\n",
       "\n",
       "    .dataframe tbody tr th {\n",
       "        vertical-align: top;\n",
       "    }\n",
       "\n",
       "    .dataframe thead th {\n",
       "        text-align: right;\n",
       "    }\n",
       "</style>\n",
       "<table border=\"1\" class=\"dataframe\">\n",
       "  <thead>\n",
       "    <tr style=\"text-align: right;\">\n",
       "      <th></th>\n",
       "      <th>KOMMUNENR</th>\n",
       "      <th>NAVN</th>\n",
       "    </tr>\n",
       "  </thead>\n",
       "  <tbody>\n",
       "    <tr>\n",
       "      <th>55</th>\n",
       "      <td>1815</td>\n",
       "      <td>Vega</td>\n",
       "    </tr>\n",
       "    <tr>\n",
       "      <th>320</th>\n",
       "      <td>5404</td>\n",
       "      <td>Vardø</td>\n",
       "    </tr>\n",
       "    <tr>\n",
       "      <th>155</th>\n",
       "      <td>3420</td>\n",
       "      <td>Elverum</td>\n",
       "    </tr>\n",
       "    <tr>\n",
       "      <th>262</th>\n",
       "      <td>4635</td>\n",
       "      <td>Gulen</td>\n",
       "    </tr>\n",
       "    <tr>\n",
       "      <th>108</th>\n",
       "      <td>3021</td>\n",
       "      <td>Ås</td>\n",
       "    </tr>\n",
       "  </tbody>\n",
       "</table>\n",
       "</div>"
      ],
      "text/plain": [
       "    KOMMUNENR     NAVN\n",
       "55       1815     Vega\n",
       "320      5404    Vardø\n",
       "155      3420  Elverum\n",
       "262      4635    Gulen\n",
       "108      3021       Ås"
      ]
     },
     "execution_count": 5,
     "metadata": {},
     "output_type": "execute_result"
    }
   ],
   "source": [
    "kommuner_fra_api(2022, navn=True, utvalg=5)"
   ]
  },
  {
   "cell_type": "markdown",
   "metadata": {},
   "source": [
    "### fylker_fra_api()"
   ]
  },
  {
   "cell_type": "code",
   "execution_count": 6,
   "metadata": {},
   "outputs": [
    {
     "data": {
      "text/html": [
       "<div>\n",
       "<style scoped>\n",
       "    .dataframe tbody tr th:only-of-type {\n",
       "        vertical-align: middle;\n",
       "    }\n",
       "\n",
       "    .dataframe tbody tr th {\n",
       "        vertical-align: top;\n",
       "    }\n",
       "\n",
       "    .dataframe thead th {\n",
       "        text-align: right;\n",
       "    }\n",
       "</style>\n",
       "<table border=\"1\" class=\"dataframe\">\n",
       "  <thead>\n",
       "    <tr style=\"text-align: right;\">\n",
       "      <th></th>\n",
       "      <th>FYLKE</th>\n",
       "      <th>NAVN</th>\n",
       "    </tr>\n",
       "  </thead>\n",
       "  <tbody>\n",
       "    <tr>\n",
       "      <th>0</th>\n",
       "      <td>03</td>\n",
       "      <td>Oslo</td>\n",
       "    </tr>\n",
       "    <tr>\n",
       "      <th>1</th>\n",
       "      <td>11</td>\n",
       "      <td>Rogaland</td>\n",
       "    </tr>\n",
       "    <tr>\n",
       "      <th>2</th>\n",
       "      <td>15</td>\n",
       "      <td>Møre og Romsdal</td>\n",
       "    </tr>\n",
       "    <tr>\n",
       "      <th>3</th>\n",
       "      <td>18</td>\n",
       "      <td>Nordland - Nordlánnda</td>\n",
       "    </tr>\n",
       "    <tr>\n",
       "      <th>4</th>\n",
       "      <td>30</td>\n",
       "      <td>Viken</td>\n",
       "    </tr>\n",
       "    <tr>\n",
       "      <th>5</th>\n",
       "      <td>34</td>\n",
       "      <td>Innlandet</td>\n",
       "    </tr>\n",
       "    <tr>\n",
       "      <th>6</th>\n",
       "      <td>38</td>\n",
       "      <td>Vestfold og Telemark</td>\n",
       "    </tr>\n",
       "    <tr>\n",
       "      <th>7</th>\n",
       "      <td>42</td>\n",
       "      <td>Agder</td>\n",
       "    </tr>\n",
       "    <tr>\n",
       "      <th>8</th>\n",
       "      <td>46</td>\n",
       "      <td>Vestland</td>\n",
       "    </tr>\n",
       "    <tr>\n",
       "      <th>9</th>\n",
       "      <td>50</td>\n",
       "      <td>Trøndelag - Trööndelage</td>\n",
       "    </tr>\n",
       "    <tr>\n",
       "      <th>10</th>\n",
       "      <td>54</td>\n",
       "      <td>Troms og Finnmark - Romsa ja Finnmárku - Troms...</td>\n",
       "    </tr>\n",
       "  </tbody>\n",
       "</table>\n",
       "</div>"
      ],
      "text/plain": [
       "   FYLKE                                               NAVN\n",
       "0     03                                               Oslo\n",
       "1     11                                           Rogaland\n",
       "2     15                                    Møre og Romsdal\n",
       "3     18                              Nordland - Nordlánnda\n",
       "4     30                                              Viken\n",
       "5     34                                          Innlandet\n",
       "6     38                               Vestfold og Telemark\n",
       "7     42                                              Agder\n",
       "8     46                                           Vestland\n",
       "9     50                            Trøndelag - Trööndelage\n",
       "10    54  Troms og Finnmark - Romsa ja Finnmárku - Troms..."
      ]
     },
     "execution_count": 6,
     "metadata": {},
     "output_type": "execute_result"
    }
   ],
   "source": [
    "fylker_fra_api(navn=True)"
   ]
  },
  {
   "cell_type": "code",
   "execution_count": 7,
   "metadata": {},
   "outputs": [
    {
     "data": {
      "text/html": [
       "<div>\n",
       "<style scoped>\n",
       "    .dataframe tbody tr th:only-of-type {\n",
       "        vertical-align: middle;\n",
       "    }\n",
       "\n",
       "    .dataframe tbody tr th {\n",
       "        vertical-align: top;\n",
       "    }\n",
       "\n",
       "    .dataframe thead th {\n",
       "        text-align: right;\n",
       "    }\n",
       "</style>\n",
       "<table border=\"1\" class=\"dataframe\">\n",
       "  <thead>\n",
       "    <tr style=\"text-align: right;\">\n",
       "      <th></th>\n",
       "      <th>FYLKE</th>\n",
       "      <th>NAVN</th>\n",
       "    </tr>\n",
       "  </thead>\n",
       "  <tbody>\n",
       "    <tr>\n",
       "      <th>0</th>\n",
       "      <td>03</td>\n",
       "      <td>Oslo</td>\n",
       "    </tr>\n",
       "    <tr>\n",
       "      <th>1</th>\n",
       "      <td>11</td>\n",
       "      <td>Rogaland</td>\n",
       "    </tr>\n",
       "    <tr>\n",
       "      <th>2</th>\n",
       "      <td>15</td>\n",
       "      <td>Møre og Romsdal</td>\n",
       "    </tr>\n",
       "    <tr>\n",
       "      <th>3</th>\n",
       "      <td>18</td>\n",
       "      <td>Nordland</td>\n",
       "    </tr>\n",
       "    <tr>\n",
       "      <th>4</th>\n",
       "      <td>30</td>\n",
       "      <td>Viken</td>\n",
       "    </tr>\n",
       "    <tr>\n",
       "      <th>5</th>\n",
       "      <td>34</td>\n",
       "      <td>Innlandet</td>\n",
       "    </tr>\n",
       "    <tr>\n",
       "      <th>6</th>\n",
       "      <td>38</td>\n",
       "      <td>Vestfold og Telemark</td>\n",
       "    </tr>\n",
       "    <tr>\n",
       "      <th>7</th>\n",
       "      <td>42</td>\n",
       "      <td>Agder</td>\n",
       "    </tr>\n",
       "    <tr>\n",
       "      <th>8</th>\n",
       "      <td>46</td>\n",
       "      <td>Vestland</td>\n",
       "    </tr>\n",
       "    <tr>\n",
       "      <th>9</th>\n",
       "      <td>50</td>\n",
       "      <td>Trøndelag</td>\n",
       "    </tr>\n",
       "    <tr>\n",
       "      <th>10</th>\n",
       "      <td>54</td>\n",
       "      <td>Troms og Finnmark</td>\n",
       "    </tr>\n",
       "  </tbody>\n",
       "</table>\n",
       "</div>"
      ],
      "text/plain": [
       "   FYLKE                  NAVN\n",
       "0     03                  Oslo\n",
       "1     11              Rogaland\n",
       "2     15       Møre og Romsdal\n",
       "3     18              Nordland\n",
       "4     30                 Viken\n",
       "5     34             Innlandet\n",
       "6     38  Vestfold og Telemark\n",
       "7     42                 Agder\n",
       "8     46              Vestland\n",
       "9     50             Trøndelag\n",
       "10    54     Troms og Finnmark"
      ]
     },
     "execution_count": 7,
     "metadata": {},
     "output_type": "execute_result"
    }
   ],
   "source": [
    "fylker_fra_api(navn=True, samisk=False)"
   ]
  },
  {
   "cell_type": "markdown",
   "metadata": {},
   "source": [
    "### kommunenavn() og fylkesnavn()"
   ]
  },
  {
   "cell_type": "code",
   "execution_count": 8,
   "metadata": {},
   "outputs": [
    {
     "data": {
      "text/plain": [
       "'Oslo'"
      ]
     },
     "execution_count": 8,
     "metadata": {},
     "output_type": "execute_result"
    }
   ],
   "source": [
    "kommunenavn(\"0301\")"
   ]
  },
  {
   "cell_type": "code",
   "execution_count": 9,
   "metadata": {},
   "outputs": [
    {
     "data": {
      "text/plain": [
       "['Halden', 'Halden', 'Halden', 'Halden']"
      ]
     },
     "execution_count": 9,
     "metadata": {},
     "output_type": "execute_result"
    }
   ],
   "source": [
    "# godtar også tall og gamle kommnumre (hvis ikke man spesifiserer aar)\n",
    "kommunenavn([\"3001\", 101, \"101\", 101.000])"
   ]
  },
  {
   "cell_type": "markdown",
   "metadata": {},
   "source": [
    "Hvis man har en tabell med kommnumre og vil ha navn:"
   ]
  },
  {
   "cell_type": "code",
   "execution_count": 5,
   "metadata": {},
   "outputs": [
    {
     "data": {
      "text/html": [
       "<div>\n",
       "<style scoped>\n",
       "    .dataframe tbody tr th:only-of-type {\n",
       "        vertical-align: middle;\n",
       "    }\n",
       "\n",
       "    .dataframe tbody tr th {\n",
       "        vertical-align: top;\n",
       "    }\n",
       "\n",
       "    .dataframe thead th {\n",
       "        text-align: right;\n",
       "    }\n",
       "</style>\n",
       "<table border=\"1\" class=\"dataframe\">\n",
       "  <thead>\n",
       "    <tr style=\"text-align: right;\">\n",
       "      <th></th>\n",
       "      <th>KOMMUNENR</th>\n",
       "      <th>KOMMUNENAVN</th>\n",
       "      <th>FYLKESNAVN</th>\n",
       "    </tr>\n",
       "  </thead>\n",
       "  <tbody>\n",
       "    <tr>\n",
       "      <th>0</th>\n",
       "      <td>0301</td>\n",
       "      <td>Oslo</td>\n",
       "      <td>Oslo</td>\n",
       "    </tr>\n",
       "    <tr>\n",
       "      <th>1</th>\n",
       "      <td>1101</td>\n",
       "      <td>Eigersund</td>\n",
       "      <td>Rogaland</td>\n",
       "    </tr>\n",
       "    <tr>\n",
       "      <th>2</th>\n",
       "      <td>1103</td>\n",
       "      <td>Stavanger</td>\n",
       "      <td>Rogaland</td>\n",
       "    </tr>\n",
       "    <tr>\n",
       "      <th>3</th>\n",
       "      <td>1106</td>\n",
       "      <td>Haugesund</td>\n",
       "      <td>Rogaland</td>\n",
       "    </tr>\n",
       "    <tr>\n",
       "      <th>4</th>\n",
       "      <td>1108</td>\n",
       "      <td>Sandnes</td>\n",
       "      <td>Rogaland</td>\n",
       "    </tr>\n",
       "    <tr>\n",
       "      <th>...</th>\n",
       "      <td>...</td>\n",
       "      <td>...</td>\n",
       "      <td>...</td>\n",
       "    </tr>\n",
       "    <tr>\n",
       "      <th>351</th>\n",
       "      <td>5440</td>\n",
       "      <td>Berlevåg</td>\n",
       "      <td>Troms og Finnmark</td>\n",
       "    </tr>\n",
       "    <tr>\n",
       "      <th>352</th>\n",
       "      <td>5441</td>\n",
       "      <td>Deatnu - Tana</td>\n",
       "      <td>Troms og Finnmark</td>\n",
       "    </tr>\n",
       "    <tr>\n",
       "      <th>353</th>\n",
       "      <td>5442</td>\n",
       "      <td>Unjárga - Nesseby</td>\n",
       "      <td>Troms og Finnmark</td>\n",
       "    </tr>\n",
       "    <tr>\n",
       "      <th>354</th>\n",
       "      <td>5443</td>\n",
       "      <td>Båtsfjord</td>\n",
       "      <td>Troms og Finnmark</td>\n",
       "    </tr>\n",
       "    <tr>\n",
       "      <th>355</th>\n",
       "      <td>5444</td>\n",
       "      <td>Sør-Varanger</td>\n",
       "      <td>Troms og Finnmark</td>\n",
       "    </tr>\n",
       "  </tbody>\n",
       "</table>\n",
       "<p>356 rows × 3 columns</p>\n",
       "</div>"
      ],
      "text/plain": [
       "    KOMMUNENR        KOMMUNENAVN         FYLKESNAVN\n",
       "0        0301               Oslo               Oslo\n",
       "1        1101          Eigersund           Rogaland\n",
       "2        1103          Stavanger           Rogaland\n",
       "3        1106          Haugesund           Rogaland\n",
       "4        1108            Sandnes           Rogaland\n",
       "..        ...                ...                ...\n",
       "351      5440           Berlevåg  Troms og Finnmark\n",
       "352      5441      Deatnu - Tana  Troms og Finnmark\n",
       "353      5442  Unjárga - Nesseby  Troms og Finnmark\n",
       "354      5443          Båtsfjord  Troms og Finnmark\n",
       "355      5444       Sør-Varanger  Troms og Finnmark\n",
       "\n",
       "[356 rows x 3 columns]"
      ]
     },
     "execution_count": 5,
     "metadata": {},
     "output_type": "execute_result"
    }
   ],
   "source": [
    "df = pd.DataFrame({\"KOMMUNENR\": kommuner_fra_api()})\n",
    "\n",
    "df[\"KOMMUNENAVN\"] = df.KOMMUNENR.kommunenavn()\n",
    "\n",
    "df[\"FYLKESNAVN\"] = df.KOMMUNENR.fylkesnavn()\n",
    "\n",
    "df"
   ]
  },
  {
   "cell_type": "code",
   "execution_count": 11,
   "metadata": {},
   "outputs": [
    {
     "data": {
      "text/html": [
       "<div>\n",
       "<style scoped>\n",
       "    .dataframe tbody tr th:only-of-type {\n",
       "        vertical-align: middle;\n",
       "    }\n",
       "\n",
       "    .dataframe tbody tr th {\n",
       "        vertical-align: top;\n",
       "    }\n",
       "\n",
       "    .dataframe thead th {\n",
       "        text-align: right;\n",
       "    }\n",
       "</style>\n",
       "<table border=\"1\" class=\"dataframe\">\n",
       "  <thead>\n",
       "    <tr style=\"text-align: right;\">\n",
       "      <th></th>\n",
       "      <th>KOMMUNENR</th>\n",
       "      <th>KOMMUNENAVN</th>\n",
       "      <th>FYLKESNAVN</th>\n",
       "    </tr>\n",
       "  </thead>\n",
       "  <tbody>\n",
       "    <tr>\n",
       "      <th>0</th>\n",
       "      <td>0101</td>\n",
       "      <td>Halden</td>\n",
       "      <td>Østfold</td>\n",
       "    </tr>\n",
       "    <tr>\n",
       "      <th>1</th>\n",
       "      <td>0102</td>\n",
       "      <td>Sarpsborg</td>\n",
       "      <td>Østfold</td>\n",
       "    </tr>\n",
       "    <tr>\n",
       "      <th>2</th>\n",
       "      <td>0103</td>\n",
       "      <td>Fredrikstad</td>\n",
       "      <td>Østfold</td>\n",
       "    </tr>\n",
       "    <tr>\n",
       "      <th>3</th>\n",
       "      <td>0104</td>\n",
       "      <td>Moss</td>\n",
       "      <td>Østfold</td>\n",
       "    </tr>\n",
       "    <tr>\n",
       "      <th>4</th>\n",
       "      <td>0111</td>\n",
       "      <td>Hvaler</td>\n",
       "      <td>Østfold</td>\n",
       "    </tr>\n",
       "    <tr>\n",
       "      <th>...</th>\n",
       "      <td>...</td>\n",
       "      <td>...</td>\n",
       "      <td>...</td>\n",
       "    </tr>\n",
       "    <tr>\n",
       "      <th>449</th>\n",
       "      <td>2024</td>\n",
       "      <td>Berlevåg</td>\n",
       "      <td>Finnmark</td>\n",
       "    </tr>\n",
       "    <tr>\n",
       "      <th>450</th>\n",
       "      <td>2025</td>\n",
       "      <td>Tana</td>\n",
       "      <td>Finnmark</td>\n",
       "    </tr>\n",
       "    <tr>\n",
       "      <th>451</th>\n",
       "      <td>2027</td>\n",
       "      <td>Nesseby</td>\n",
       "      <td>Finnmark</td>\n",
       "    </tr>\n",
       "    <tr>\n",
       "      <th>452</th>\n",
       "      <td>2028</td>\n",
       "      <td>Båtsfjord</td>\n",
       "      <td>Finnmark</td>\n",
       "    </tr>\n",
       "    <tr>\n",
       "      <th>453</th>\n",
       "      <td>2030</td>\n",
       "      <td>Sør-Varanger</td>\n",
       "      <td>Finnmark</td>\n",
       "    </tr>\n",
       "  </tbody>\n",
       "</table>\n",
       "<p>454 rows × 3 columns</p>\n",
       "</div>"
      ],
      "text/plain": [
       "    KOMMUNENR   KOMMUNENAVN FYLKESNAVN\n",
       "0        0101        Halden    Østfold\n",
       "1        0102     Sarpsborg    Østfold\n",
       "2        0103   Fredrikstad    Østfold\n",
       "3        0104          Moss    Østfold\n",
       "4        0111        Hvaler    Østfold\n",
       "..        ...           ...        ...\n",
       "449      2024      Berlevåg   Finnmark\n",
       "450      2025          Tana   Finnmark\n",
       "451      2027       Nesseby   Finnmark\n",
       "452      2028     Båtsfjord   Finnmark\n",
       "453      2030  Sør-Varanger   Finnmark\n",
       "\n",
       "[454 rows x 3 columns]"
      ]
     },
     "execution_count": 11,
     "metadata": {},
     "output_type": "execute_result"
    }
   ],
   "source": [
    "# hvis veldig gamle kommunenumre, tar det tid hvis man ikke spesifiserer aar i kommunenavn() og fylkesnavn()\n",
    "df = pd.DataFrame({\"KOMMUNENR\": kommuner_fra_api(1980)})\n",
    "df[\"KOMMUNENAVN\"] = df.KOMMUNENR.kommunenavn(aar=1980)\n",
    "df[\"FYLKESNAVN\"] = df.KOMMUNENR.fylkesnavn(aar=1980)\n",
    "df"
   ]
  },
  {
   "cell_type": "markdown",
   "metadata": {},
   "source": [
    "# returnerer dictionary hvis ikke kommune er gitt"
   ]
  },
  {
   "cell_type": "code",
   "execution_count": 9,
   "metadata": {},
   "outputs": [],
   "source": [
    "kommuneordbok = kommunenavn()"
   ]
  },
  {
   "cell_type": "code",
   "execution_count": 16,
   "metadata": {},
   "outputs": [
    {
     "name": "stdout",
     "output_type": "stream",
     "text": [
      "'0301': 'Oslo'\n",
      "'1101': 'Eigersund'\n",
      "'1103': 'Stavanger'\n",
      "'1106': 'Haugesund'\n",
      "'1108': 'Sandnes'\n"
     ]
    }
   ],
   "source": [
    "# printer de fem første nøklene og verdiene i ordboka\n",
    "for i, (kommnr, kommnavn) in enumerate(kommuneordbok.items()):\n",
    "\n",
    "    print(f\"'{kommnr}': '{kommnavn}'\")\n",
    "\n",
    "    if i==4:\n",
    "        break"
   ]
  },
  {
   "cell_type": "code",
   "execution_count": 13,
   "metadata": {},
   "outputs": [
    {
     "data": {
      "text/plain": [
       "'Kongsvinger'"
      ]
     },
     "execution_count": 13,
     "metadata": {},
     "output_type": "execute_result"
    }
   ],
   "source": [
    "kommuneordbok[\"3401\"]"
   ]
  },
  {
   "cell_type": "markdown",
   "metadata": {},
   "source": [
    "fylkesnavn() fungerer på samme måte, men godtar også kommunenavn:"
   ]
  },
  {
   "cell_type": "code",
   "execution_count": 17,
   "metadata": {},
   "outputs": [
    {
     "data": {
      "text/plain": [
       "['Viken', 'Østfold', 'Østfold', 'Østfold', 'Viken']"
      ]
     },
     "execution_count": 17,
     "metadata": {},
     "output_type": "execute_result"
    }
   ],
   "source": [
    "fylkesnavn([\"Halden\", \"01\", \"0101\", 101.00, \"3001\"])"
   ]
  },
  {
   "cell_type": "code",
   "execution_count": 19,
   "metadata": {},
   "outputs": [
    {
     "data": {
      "text/plain": [
       "{'03': 'Oslo',\n",
       " '11': 'Rogaland',\n",
       " '15': 'Møre og Romsdal',\n",
       " '18': 'Nordland',\n",
       " '30': 'Viken',\n",
       " '34': 'Innlandet',\n",
       " '38': 'Vestfold og Telemark',\n",
       " '42': 'Agder',\n",
       " '46': 'Vestland',\n",
       " '50': 'Trøndelag',\n",
       " '54': 'Troms og Finnmark'}"
      ]
     },
     "execution_count": 19,
     "metadata": {},
     "output_type": "execute_result"
    }
   ],
   "source": [
    "fylkesordbok = fylkesnavn()\n",
    "fylkesordbok"
   ]
  },
  {
   "cell_type": "markdown",
   "metadata": {},
   "source": [
    "### kommunenummer() og fylkesnummer() er likt bare motsatt"
   ]
  },
  {
   "cell_type": "code",
   "execution_count": 16,
   "metadata": {},
   "outputs": [
    {
     "data": {
      "text/plain": [
       "'3401'"
      ]
     },
     "execution_count": 16,
     "metadata": {},
     "output_type": "execute_result"
    }
   ],
   "source": [
    "kommunenummer(\"kongsvinger\")"
   ]
  },
  {
   "cell_type": "code",
   "execution_count": 17,
   "metadata": {},
   "outputs": [
    {
     "data": {
      "text/plain": [
       "['03', '04']"
      ]
     },
     "execution_count": 17,
     "metadata": {},
     "output_type": "execute_result"
    }
   ],
   "source": [
    "fylkesnummer([\"oslo\", \"kONGSvingER\"], 2010)"
   ]
  },
  {
   "cell_type": "code",
   "execution_count": 22,
   "metadata": {},
   "outputs": [
    {
     "data": {
      "text/plain": [
       "['30', '01', '06', '30', '30']"
      ]
     },
     "execution_count": 22,
     "metadata": {},
     "output_type": "execute_result"
    }
   ],
   "source": [
    "fylkesnummer([\"halden\", \"østfold\", \"buskerud\", \"viken\", \"drammen\"])"
   ]
  },
  {
   "cell_type": "code",
   "execution_count": 23,
   "metadata": {},
   "outputs": [
    {
     "name": "stdout",
     "output_type": "stream",
     "text": [
      "Finner ikke fylket 'Viken' i 2012\n"
     ]
    }
   ],
   "source": [
    "try:\n",
    "    fylkesnummer([\"halden\", \"buskerud\", \"Viken\", \"drammen\"], 2012)\n",
    "except ValueError as e:\n",
    "    print(e)"
   ]
  },
  {
   "cell_type": "markdown",
   "metadata": {},
   "source": [
    "### nabokommuner()"
   ]
  },
  {
   "cell_type": "code",
   "execution_count": 24,
   "metadata": {},
   "outputs": [
    {
     "data": {
      "text/plain": [
       "['3020', '3023', '3024', '3054', '3007', '3028', '3029', '3030', '3031']"
      ]
     },
     "execution_count": 24,
     "metadata": {},
     "output_type": "execute_result"
    }
   ],
   "source": [
    "# oslos nabokommuner:\n",
    "nabokommuner(\"0301\")"
   ]
  },
  {
   "cell_type": "code",
   "execution_count": 25,
   "metadata": {},
   "outputs": [
    {
     "data": {
      "text/plain": [
       "['3020', '3023', '3024', '3054', '3007', '3028', '3029', '3030', '3031']"
      ]
     },
     "execution_count": 25,
     "metadata": {},
     "output_type": "execute_result"
    }
   ],
   "source": [
    "# returnerer ordbok hvis ikke kommune oppgis\n",
    "nabodict = nabokommuner()\n",
    "nabodict[\"0301\"]"
   ]
  },
  {
   "cell_type": "code",
   "execution_count": 27,
   "metadata": {},
   "outputs": [
    {
     "name": "stdout",
     "output_type": "stream",
     "text": [
      "0301 : ['3020', '3023', '3024', '3054', '3007', '3028', '3029', '3030', '3031']\n",
      "1101 : ['1111', '1112', '1119', '1114', '4228']\n",
      "1103 : ['1133', '1134', '1124', '1108', '1130', '1127', '1144', '1145', '1146']\n",
      "1106 : ['1149', '1146', '4612', '4613']\n",
      "1108 : ['1121', '1120', '1122', '4228', '1133', '4222', '1124', '1130', '1103']\n"
     ]
    }
   ],
   "source": [
    "# printer første fem fra ordboka\n",
    "for i, (kommnr, naboer) in enumerate(nabodict.items()):\n",
    "\n",
    "    print(kommnr, \":\", naboer)\n",
    "\n",
    "    if i==4:\n",
    "        break"
   ]
  },
  {
   "cell_type": "markdown",
   "metadata": {},
   "source": [
    "### del_i_kommuner() og del_i_fylker()"
   ]
  },
  {
   "cell_type": "code",
   "execution_count": 29,
   "metadata": {},
   "outputs": [
    {
     "data": {
      "text/html": [
       "<div>\n",
       "<style scoped>\n",
       "    .dataframe tbody tr th:only-of-type {\n",
       "        vertical-align: middle;\n",
       "    }\n",
       "\n",
       "    .dataframe tbody tr th {\n",
       "        vertical-align: top;\n",
       "    }\n",
       "\n",
       "    .dataframe thead th {\n",
       "        text-align: right;\n",
       "    }\n",
       "</style>\n",
       "<table border=\"1\" class=\"dataframe\">\n",
       "  <thead>\n",
       "    <tr style=\"text-align: right;\">\n",
       "      <th></th>\n",
       "      <th>streetname</th>\n",
       "      <th>geometry</th>\n",
       "    </tr>\n",
       "  </thead>\n",
       "  <tbody>\n",
       "    <tr>\n",
       "      <th>1204304</th>\n",
       "      <td>Brunskrubbveien</td>\n",
       "      <td>MULTILINESTRING Z ((272873.600 6648885.700 237...</td>\n",
       "    </tr>\n",
       "    <tr>\n",
       "      <th>617383</th>\n",
       "      <td>Engerkleiva</td>\n",
       "      <td>MULTILINESTRING Z ((285256.726 6650394.636 154...</td>\n",
       "    </tr>\n",
       "    <tr>\n",
       "      <th>1508749</th>\n",
       "      <td>Svensenga</td>\n",
       "      <td>MULTILINESTRING Z ((263887.307 6654975.720 158...</td>\n",
       "    </tr>\n",
       "    <tr>\n",
       "      <th>500000</th>\n",
       "      <td>St. Olavs plass</td>\n",
       "      <td>MULTILINESTRING Z ((261913.460 6649933.650 18....</td>\n",
       "    </tr>\n",
       "    <tr>\n",
       "      <th>849884</th>\n",
       "      <td>Ensjøveien</td>\n",
       "      <td>MULTILINESTRING Z ((264694.479 6648949.372 58....</td>\n",
       "    </tr>\n",
       "    <tr>\n",
       "      <th>1490298</th>\n",
       "      <td>Kirkegata</td>\n",
       "      <td>MULTILINESTRING Z ((262010.200 6648977.300 3.6...</td>\n",
       "    </tr>\n",
       "    <tr>\n",
       "      <th>845766</th>\n",
       "      <td>Alf Bjerckes vei</td>\n",
       "      <td>MULTILINESTRING Z ((267126.344 6650984.291 110...</td>\n",
       "    </tr>\n",
       "    <tr>\n",
       "      <th>818994</th>\n",
       "      <td>Tangenveien</td>\n",
       "      <td>MULTILINESTRING Z ((275699.686 6629093.896 131...</td>\n",
       "    </tr>\n",
       "    <tr>\n",
       "      <th>1255376</th>\n",
       "      <td>Sørumsandveien</td>\n",
       "      <td>MULTILINESTRING Z ((290178.535 6655794.116 119...</td>\n",
       "    </tr>\n",
       "    <tr>\n",
       "      <th>1190550</th>\n",
       "      <td>Tuterudkroken</td>\n",
       "      <td>MULTILINESTRING Z ((277510.700 6656212.500 117...</td>\n",
       "    </tr>\n",
       "  </tbody>\n",
       "</table>\n",
       "</div>"
      ],
      "text/plain": [
       "               streetname                                           geometry\n",
       "1204304   Brunskrubbveien  MULTILINESTRING Z ((272873.600 6648885.700 237...\n",
       "617383        Engerkleiva  MULTILINESTRING Z ((285256.726 6650394.636 154...\n",
       "1508749         Svensenga  MULTILINESTRING Z ((263887.307 6654975.720 158...\n",
       "500000    St. Olavs plass  MULTILINESTRING Z ((261913.460 6649933.650 18....\n",
       "849884         Ensjøveien  MULTILINESTRING Z ((264694.479 6648949.372 58....\n",
       "1490298         Kirkegata  MULTILINESTRING Z ((262010.200 6648977.300 3.6...\n",
       "845766   Alf Bjerckes vei  MULTILINESTRING Z ((267126.344 6650984.291 110...\n",
       "818994        Tangenveien  MULTILINESTRING Z ((275699.686 6629093.896 131...\n",
       "1255376    Sørumsandveien  MULTILINESTRING Z ((290178.535 6655794.116 119...\n",
       "1190550     Tuterudkroken  MULTILINESTRING Z ((277510.700 6656212.500 117..."
      ]
     },
     "execution_count": 29,
     "metadata": {},
     "output_type": "execute_result"
    }
   ],
   "source": [
    "gdf = gpd.read_parquet(r\"C:\\Users\\ort\\OneDrive - Statistisk sentralbyrå\\data\\veger_oslo_og_naboer2.parquet\")\n",
    "gdf = gdf[[\"streetname\", \"geometry\"]].sample(10)\n",
    "gdf"
   ]
  },
  {
   "cell_type": "code",
   "execution_count": 30,
   "metadata": {},
   "outputs": [
    {
     "data": {
      "text/html": [
       "<div>\n",
       "<style scoped>\n",
       "    .dataframe tbody tr th:only-of-type {\n",
       "        vertical-align: middle;\n",
       "    }\n",
       "\n",
       "    .dataframe tbody tr th {\n",
       "        vertical-align: top;\n",
       "    }\n",
       "\n",
       "    .dataframe thead th {\n",
       "        text-align: right;\n",
       "    }\n",
       "</style>\n",
       "<table border=\"1\" class=\"dataframe\">\n",
       "  <thead>\n",
       "    <tr style=\"text-align: right;\">\n",
       "      <th></th>\n",
       "      <th>streetname</th>\n",
       "      <th>KOMMUNENR</th>\n",
       "      <th>geometry</th>\n",
       "    </tr>\n",
       "  </thead>\n",
       "  <tbody>\n",
       "    <tr>\n",
       "      <th>0</th>\n",
       "      <td>Brunskrubbveien</td>\n",
       "      <td>3029</td>\n",
       "      <td>LINESTRING Z (272873.600 6648885.700 237.170, ...</td>\n",
       "    </tr>\n",
       "    <tr>\n",
       "      <th>1</th>\n",
       "      <td>Engerkleiva</td>\n",
       "      <td>3030</td>\n",
       "      <td>LINESTRING Z (285256.726 6650394.636 154.600, ...</td>\n",
       "    </tr>\n",
       "    <tr>\n",
       "      <th>2</th>\n",
       "      <td>Sørumsandveien</td>\n",
       "      <td>3030</td>\n",
       "      <td>LINESTRING Z (290178.535 6655794.116 119.469, ...</td>\n",
       "    </tr>\n",
       "    <tr>\n",
       "      <th>3</th>\n",
       "      <td>Tuterudkroken</td>\n",
       "      <td>3030</td>\n",
       "      <td>LINESTRING Z (277510.700 6656212.500 117.183, ...</td>\n",
       "    </tr>\n",
       "    <tr>\n",
       "      <th>4</th>\n",
       "      <td>Svensenga</td>\n",
       "      <td>0301</td>\n",
       "      <td>LINESTRING Z (263887.307 6654975.720 158.578, ...</td>\n",
       "    </tr>\n",
       "    <tr>\n",
       "      <th>5</th>\n",
       "      <td>St. Olavs plass</td>\n",
       "      <td>0301</td>\n",
       "      <td>LINESTRING Z (261913.460 6649933.650 18.328, 2...</td>\n",
       "    </tr>\n",
       "    <tr>\n",
       "      <th>6</th>\n",
       "      <td>Ensjøveien</td>\n",
       "      <td>0301</td>\n",
       "      <td>LINESTRING Z (264694.479 6648949.372 58.440, 2...</td>\n",
       "    </tr>\n",
       "    <tr>\n",
       "      <th>7</th>\n",
       "      <td>Kirkegata</td>\n",
       "      <td>0301</td>\n",
       "      <td>LINESTRING Z (262010.200 6648977.300 3.657, 26...</td>\n",
       "    </tr>\n",
       "    <tr>\n",
       "      <th>8</th>\n",
       "      <td>Alf Bjerckes vei</td>\n",
       "      <td>0301</td>\n",
       "      <td>LINESTRING Z (267126.344 6650984.291 110.234, ...</td>\n",
       "    </tr>\n",
       "    <tr>\n",
       "      <th>9</th>\n",
       "      <td>Tangenveien</td>\n",
       "      <td>3028</td>\n",
       "      <td>LINESTRING Z (275699.686 6629093.896 131.686, ...</td>\n",
       "    </tr>\n",
       "  </tbody>\n",
       "</table>\n",
       "</div>"
      ],
      "text/plain": [
       "         streetname KOMMUNENR  \\\n",
       "0   Brunskrubbveien      3029   \n",
       "1       Engerkleiva      3030   \n",
       "2    Sørumsandveien      3030   \n",
       "3     Tuterudkroken      3030   \n",
       "4         Svensenga      0301   \n",
       "5   St. Olavs plass      0301   \n",
       "6        Ensjøveien      0301   \n",
       "7         Kirkegata      0301   \n",
       "8  Alf Bjerckes vei      0301   \n",
       "9       Tangenveien      3028   \n",
       "\n",
       "                                            geometry  \n",
       "0  LINESTRING Z (272873.600 6648885.700 237.170, ...  \n",
       "1  LINESTRING Z (285256.726 6650394.636 154.600, ...  \n",
       "2  LINESTRING Z (290178.535 6655794.116 119.469, ...  \n",
       "3  LINESTRING Z (277510.700 6656212.500 117.183, ...  \n",
       "4  LINESTRING Z (263887.307 6654975.720 158.578, ...  \n",
       "5  LINESTRING Z (261913.460 6649933.650 18.328, 2...  \n",
       "6  LINESTRING Z (264694.479 6648949.372 58.440, 2...  \n",
       "7  LINESTRING Z (262010.200 6648977.300 3.657, 26...  \n",
       "8  LINESTRING Z (267126.344 6650984.291 110.234, ...  \n",
       "9  LINESTRING Z (275699.686 6629093.896 131.686, ...  "
      ]
     },
     "execution_count": 30,
     "metadata": {},
     "output_type": "execute_result"
    }
   ],
   "source": [
    "gdf_kommunedelt = gdf.del_i_kommuner()\n",
    "gdf_kommunedelt"
   ]
  },
  {
   "cell_type": "code",
   "execution_count": 31,
   "metadata": {},
   "outputs": [
    {
     "data": {
      "text/html": [
       "<div>\n",
       "<style scoped>\n",
       "    .dataframe tbody tr th:only-of-type {\n",
       "        vertical-align: middle;\n",
       "    }\n",
       "\n",
       "    .dataframe tbody tr th {\n",
       "        vertical-align: top;\n",
       "    }\n",
       "\n",
       "    .dataframe thead th {\n",
       "        text-align: right;\n",
       "    }\n",
       "</style>\n",
       "<table border=\"1\" class=\"dataframe\">\n",
       "  <thead>\n",
       "    <tr style=\"text-align: right;\">\n",
       "      <th></th>\n",
       "      <th>streetname</th>\n",
       "      <th>KOMMUNENR</th>\n",
       "      <th>FYLKE</th>\n",
       "      <th>geometry</th>\n",
       "    </tr>\n",
       "  </thead>\n",
       "  <tbody>\n",
       "    <tr>\n",
       "      <th>0</th>\n",
       "      <td>Brunskrubbveien</td>\n",
       "      <td>3029</td>\n",
       "      <td>30</td>\n",
       "      <td>LINESTRING Z (272873.600 6648885.700 237.170, ...</td>\n",
       "    </tr>\n",
       "    <tr>\n",
       "      <th>1</th>\n",
       "      <td>Engerkleiva</td>\n",
       "      <td>3030</td>\n",
       "      <td>30</td>\n",
       "      <td>LINESTRING Z (285256.726 6650394.636 154.600, ...</td>\n",
       "    </tr>\n",
       "    <tr>\n",
       "      <th>2</th>\n",
       "      <td>Sørumsandveien</td>\n",
       "      <td>3030</td>\n",
       "      <td>30</td>\n",
       "      <td>LINESTRING Z (290178.535 6655794.116 119.469, ...</td>\n",
       "    </tr>\n",
       "    <tr>\n",
       "      <th>3</th>\n",
       "      <td>Tuterudkroken</td>\n",
       "      <td>3030</td>\n",
       "      <td>30</td>\n",
       "      <td>LINESTRING Z (277510.700 6656212.500 117.183, ...</td>\n",
       "    </tr>\n",
       "    <tr>\n",
       "      <th>4</th>\n",
       "      <td>Tangenveien</td>\n",
       "      <td>3028</td>\n",
       "      <td>30</td>\n",
       "      <td>LINESTRING Z (275699.686 6629093.896 131.686, ...</td>\n",
       "    </tr>\n",
       "    <tr>\n",
       "      <th>5</th>\n",
       "      <td>Svensenga</td>\n",
       "      <td>0301</td>\n",
       "      <td>03</td>\n",
       "      <td>LINESTRING Z (263887.307 6654975.720 158.578, ...</td>\n",
       "    </tr>\n",
       "    <tr>\n",
       "      <th>6</th>\n",
       "      <td>St. Olavs plass</td>\n",
       "      <td>0301</td>\n",
       "      <td>03</td>\n",
       "      <td>LINESTRING Z (261913.460 6649933.650 18.328, 2...</td>\n",
       "    </tr>\n",
       "    <tr>\n",
       "      <th>7</th>\n",
       "      <td>Ensjøveien</td>\n",
       "      <td>0301</td>\n",
       "      <td>03</td>\n",
       "      <td>LINESTRING Z (264694.479 6648949.372 58.440, 2...</td>\n",
       "    </tr>\n",
       "    <tr>\n",
       "      <th>8</th>\n",
       "      <td>Kirkegata</td>\n",
       "      <td>0301</td>\n",
       "      <td>03</td>\n",
       "      <td>LINESTRING Z (262010.200 6648977.300 3.657, 26...</td>\n",
       "    </tr>\n",
       "    <tr>\n",
       "      <th>9</th>\n",
       "      <td>Alf Bjerckes vei</td>\n",
       "      <td>0301</td>\n",
       "      <td>03</td>\n",
       "      <td>LINESTRING Z (267126.344 6650984.291 110.234, ...</td>\n",
       "    </tr>\n",
       "  </tbody>\n",
       "</table>\n",
       "</div>"
      ],
      "text/plain": [
       "         streetname KOMMUNENR FYLKE  \\\n",
       "0   Brunskrubbveien      3029    30   \n",
       "1       Engerkleiva      3030    30   \n",
       "2    Sørumsandveien      3030    30   \n",
       "3     Tuterudkroken      3030    30   \n",
       "4       Tangenveien      3028    30   \n",
       "5         Svensenga      0301    03   \n",
       "6   St. Olavs plass      0301    03   \n",
       "7        Ensjøveien      0301    03   \n",
       "8         Kirkegata      0301    03   \n",
       "9  Alf Bjerckes vei      0301    03   \n",
       "\n",
       "                                            geometry  \n",
       "0  LINESTRING Z (272873.600 6648885.700 237.170, ...  \n",
       "1  LINESTRING Z (285256.726 6650394.636 154.600, ...  \n",
       "2  LINESTRING Z (290178.535 6655794.116 119.469, ...  \n",
       "3  LINESTRING Z (277510.700 6656212.500 117.183, ...  \n",
       "4  LINESTRING Z (275699.686 6629093.896 131.686, ...  \n",
       "5  LINESTRING Z (263887.307 6654975.720 158.578, ...  \n",
       "6  LINESTRING Z (261913.460 6649933.650 18.328, 2...  \n",
       "7  LINESTRING Z (264694.479 6648949.372 58.440, 2...  \n",
       "8  LINESTRING Z (262010.200 6648977.300 3.657, 26...  \n",
       "9  LINESTRING Z (267126.344 6650984.291 110.234, ...  "
      ]
     },
     "execution_count": 31,
     "metadata": {},
     "output_type": "execute_result"
    }
   ],
   "source": [
    "gdf_kommunedelt_og_fylkedelt = gdf_kommunedelt.del_i_fylker()\n",
    "gdf_kommunedelt_og_fylkedelt"
   ]
  },
  {
   "cell_type": "code",
   "execution_count": null,
   "metadata": {},
   "outputs": [],
   "source": []
  }
 ],
 "metadata": {
  "kernelspec": {
   "display_name": "Python 3.9.13 ('geo_env39')",
   "language": "python",
   "name": "python3"
  },
  "language_info": {
   "codemirror_mode": {
    "name": "ipython",
    "version": 3
   },
   "file_extension": ".py",
   "mimetype": "text/x-python",
   "name": "python",
   "nbconvert_exporter": "python",
   "pygments_lexer": "ipython3",
   "version": "3.9.13"
  },
  "orig_nbformat": 4,
  "vscode": {
   "interpreter": {
    "hash": "ec506855ce09a0171c1abd104fa4ec7f6a63ded3650b643e1df6c1136fb69d9c"
   }
  }
 },
 "nbformat": 4,
 "nbformat_minor": 2
}
