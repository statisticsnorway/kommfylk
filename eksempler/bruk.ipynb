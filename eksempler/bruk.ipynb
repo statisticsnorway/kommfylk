{
 "cells": [
  {
   "cell_type": "code",
   "execution_count": 1,
   "metadata": {},
   "outputs": [],
   "source": [
    "import sys\n",
    "sys.path.append(r\"C:\\Users\\ort\\OneDrive - Statistisk sentralbyrå\\Dokumenter\\GitHub\")\n",
    "\n",
    "from kommfylk import * #midlr. wildcard import\n",
    "\n",
    "import geopandas as gpd\n",
    "import pandas as pd"
   ]
  },
  {
   "cell_type": "markdown",
   "metadata": {},
   "source": [
    "### kommuner_fra_api()"
   ]
  },
  {
   "cell_type": "code",
   "execution_count": 25,
   "metadata": {},
   "outputs": [
    {
     "name": "stdout",
     "output_type": "stream",
     "text": [
      "['0301', '1101', '1103', '1106', '1108', '1111', '1112', '1114', '1119', '1120', '1121', '1122', '1124', '1127', '1130', '1133', '1134', '1135', '1144', '1145', '1146', '1149', '1151', '1160', '1505', '1506', '1507', '1511', '1514', '1515', '1516', '1517', '1520', '1525', '1528', '1531', '1532', '1535', '1539', '1547', '1554', '1557', '1560', '1563', '1566', '1573', '1576', '1577', '1578', '1579', '1804', '1806', '1811', '1812', '1813', '1815', '1816', '1818', '1820', '1822', '1824', '1825', '1826', '1827', '1828', '1832', '1833', '1834', '1835', '1836', '1837', '1838', '1839', '1840', '1841', '1845', '1848', '1851', '1853', '1856', '1857', '1859', '1860', '1865', '1866', '1867', '1868', '1870', '1871', '1874', '1875', '3001', '3002', '3003', '3004', '3005', '3006', '3007', '3011', '3012', '3013', '3014', '3015', '3016', '3017', '3018', '3019', '3020', '3021', '3022', '3023', '3024', '3025', '3026', '3027', '3028', '3029', '3030', '3031', '3032', '3033', '3034', '3035', '3036', '3037', '3038', '3039', '3040', '3041', '3042', '3043', '3044', '3045', '3046', '3047', '3048', '3049', '3050', '3051', '3052', '3053', '3054', '3401', '3403', '3405', '3407', '3411', '3412', '3413', '3414', '3415', '3416', '3417', '3418', '3419', '3420', '3421', '3422', '3423', '3424', '3425', '3426', '3427', '3428', '3429', '3430', '3431', '3432', '3433', '3434', '3435', '3436', '3437', '3438', '3439', '3440', '3441', '3442', '3443', '3446', '3447', '3448', '3449', '3450', '3451', '3452', '3453', '3454', '3801', '3802', '3803', '3804', '3805', '3806', '3807', '3808', '3811', '3812', '3813', '3814', '3815', '3816', '3817', '3818', '3819', '3820', '3821', '3822', '3823', '3824', '3825', '4201', '4202', '4203', '4204', '4205', '4206', '4207', '4211', '4212', '4213', '4214', '4215', '4216', '4217', '4218', '4219', '4220', '4221', '4222', '4223', '4224', '4225', '4226', '4227', '4228', '4601', '4602', '4611', '4612', '4613', '4614', '4615', '4616', '4617', '4618', '4619', '4620', '4621', '4622', '4623', '4624', '4625', '4626', '4627', '4628', '4629', '4630', '4631', '4632', '4633', '4634', '4635', '4636', '4637', '4638', '4639', '4640', '4641', '4642', '4643', '4644', '4645', '4646', '4647', '4648', '4649', '4650', '4651', '5001', '5006', '5007', '5014', '5020', '5021', '5022', '5025', '5026', '5027', '5028', '5029', '5031', '5032', '5033', '5034', '5035', '5036', '5037', '5038', '5041', '5042', '5043', '5044', '5045', '5046', '5047', '5049', '5052', '5053', '5054', '5055', '5056', '5057', '5058', '5059', '5060', '5061', '5401', '5402', '5403', '5404', '5405', '5406', '5411', '5412', '5413', '5414', '5415', '5416', '5417', '5418', '5419', '5420', '5421', '5422', '5423', '5424', '5425', '5426', '5427', '5428', '5429', '5430', '5432', '5433', '5434', '5435', '5436', '5437', '5438', '5439', '5440', '5441', '5442', '5443', '5444']\n"
     ]
    }
   ],
   "source": [
    "kommuneliste = kommuner_fra_api()\n",
    "print(kommuneliste)"
   ]
  },
  {
   "cell_type": "code",
   "execution_count": 30,
   "metadata": {},
   "outputs": [
    {
     "name": "stdout",
     "output_type": "stream",
     "text": [
      "['0101', '0104', '0105', '0106', '0111', '0118', '0119', '0121', '0122', '0123', '0124', '0125', '0127', '0128', '0135', '0136', '0137', '0138', '0211', '0213', '0214', '0215', '0216', '0217', '0219', '0220', '0221', '0226', '0227', '0228', '0229', '0230', '0231', '0233', '0234', '0235', '0236', '0237', '0238', '0239', '0301', '0402', '0403', '0412', '0415', '0417', '0418', '0419', '0420', '0423', '0425', '0426', '0427', '0428', '0429', '0430', '0432', '0434', '0436', '0437', '0438', '0439', '0441', '0501', '0502', '0511', '0512', '0513', '0514', '0515', '0516', '0517', '0519', '0520', '0521', '0522', '0528', '0529', '0532', '0533', '0534', '0536', '0538', '0540', '0541', '0542', '0543', '0544', '0545', '0602', '0604', '0605', '0612', '0615', '0616', '0617', '0618', '0619', '0620', '0621', '0622', '0623', '0624', '0625', '0626', '0627', '0628', '0631', '0632', '0633', '0701', '0702', '0704', '0706', '0709', '0711', '0713', '0714', '0716', '0718', '0719', '0720', '0722', '0723', '0728', '0805', '0806', '0807', '0811', '0814', '0815', '0817', '0819', '0821', '0822', '0826', '0827', '0828', '0829', '0830', '0831', '0833', '0834', '0901', '0904', '0906', '0911', '0912', '0914', '0919', '0926', '0928', '0929', '0935', '0937', '0938', '0940', '0941', '1001', '1002', '1003', '1004', '1014', '1017', '1018', '1021', '1026', '1027', '1029', '1032', '1034', '1037', '1046', '1101', '1102', '1103', '1106', '1111', '1112', '1114', '1119', '1120', '1121', '1122', '1124', '1127', '1129', '1130', '1133', '1134', '1135', '1141', '1142', '1144', '1145', '1146', '1149', '1151', '1154', '1201', '1211', '1214', '1216', '1219', '1221', '1222', '1223', '1224', '1227', '1228', '1231', '1232', '1233', '1234', '1235', '1238', '1241', '1242', '1243', '1244', '1245', '1246', '1247', '1251', '1252', '1253', '1256', '1259', '1260', '1263', '1264', '1265', '1266', '1401', '1411', '1412', '1413', '1416', '1417', '1418', '1419', '1420', '1421', '1422', '1424', '1426', '1428', '1429', '1430', '1431', '1432', '1433', '1438', '1439', '1441', '1443', '1444', '1445', '1449', '1502', '1503', '1504', '1511', '1514', '1515', '1516', '1517', '1519', '1520', '1523', '1524', '1525', '1526', '1528', '1529', '1531', '1532', '1534', '1535', '1539', '1543', '1545', '1546', '1547', '1548', '1551', '1554', '1556', '1557', '1560', '1563', '1566', '1567', '1569', '1571', '1572', '1573', '1601', '1612', '1613', '1617', '1620', '1621', '1622', '1624', '1627', '1630', '1632', '1633', '1634', '1635', '1636', '1638', '1640', '1644', '1648', '1653', '1657', '1662', '1663', '1664', '1665', '1702', '1703', '1711', '1714', '1717', '1718', '1719', '1721', '1723', '1724', '1725', '1729', '1736', '1738', '1739', '1740', '1742', '1743', '1744', '1748', '1749', '1750', '1751', '1755', '1804', '1805', '1811', '1812', '1813', '1815', '1816', '1818', '1820', '1822', '1824', '1825', '1826', '1827', '1828', '1832', '1833', '1834', '1835', '1836', '1837', '1838', '1839', '1840', '1841', '1842', '1845', '1848', '1849', '1850', '1851', '1852', '1853', '1854', '1856', '1857', '1859', '1860', '1865', '1866', '1867', '1868', '1870', '1871', '1874', '1901', '1902', '1911', '1913', '1915', '1917', '1919', '1920', '1922', '1923', '1924', '1925', '1926', '1927', '1928', '1929', '1931', '1933', '1936', '1938', '1939', '1940', '1941', '1942', '1943', '2002', '2003', '2004', '2011', '2012', '2014', '2015', '2017', '2018', '2019', '2020', '2021', '2022', '2023', '2024', '2025', '2027', '2028', '2030']\n"
     ]
    }
   ],
   "source": [
    "kommuneliste = kommuner_fra_api(1995)\n",
    "print(kommuneliste)"
   ]
  },
  {
   "cell_type": "code",
   "execution_count": 4,
   "metadata": {},
   "outputs": [
    {
     "data": {
      "text/html": [
       "<div>\n",
       "<style scoped>\n",
       "    .dataframe tbody tr th:only-of-type {\n",
       "        vertical-align: middle;\n",
       "    }\n",
       "\n",
       "    .dataframe tbody tr th {\n",
       "        vertical-align: top;\n",
       "    }\n",
       "\n",
       "    .dataframe thead th {\n",
       "        text-align: right;\n",
       "    }\n",
       "</style>\n",
       "<table border=\"1\" class=\"dataframe\">\n",
       "  <thead>\n",
       "    <tr style=\"text-align: right;\">\n",
       "      <th></th>\n",
       "      <th>KOMMUNENR</th>\n",
       "      <th>NAVN</th>\n",
       "    </tr>\n",
       "  </thead>\n",
       "  <tbody>\n",
       "    <tr>\n",
       "      <th>0</th>\n",
       "      <td>0301</td>\n",
       "      <td>Oslo</td>\n",
       "    </tr>\n",
       "    <tr>\n",
       "      <th>1</th>\n",
       "      <td>1101</td>\n",
       "      <td>Eigersund</td>\n",
       "    </tr>\n",
       "    <tr>\n",
       "      <th>2</th>\n",
       "      <td>1103</td>\n",
       "      <td>Stavanger</td>\n",
       "    </tr>\n",
       "    <tr>\n",
       "      <th>3</th>\n",
       "      <td>1106</td>\n",
       "      <td>Haugesund</td>\n",
       "    </tr>\n",
       "    <tr>\n",
       "      <th>4</th>\n",
       "      <td>1108</td>\n",
       "      <td>Sandnes</td>\n",
       "    </tr>\n",
       "    <tr>\n",
       "      <th>...</th>\n",
       "      <td>...</td>\n",
       "      <td>...</td>\n",
       "    </tr>\n",
       "    <tr>\n",
       "      <th>351</th>\n",
       "      <td>5440</td>\n",
       "      <td>Berlevåg</td>\n",
       "    </tr>\n",
       "    <tr>\n",
       "      <th>352</th>\n",
       "      <td>5441</td>\n",
       "      <td>Deatnu - Tana</td>\n",
       "    </tr>\n",
       "    <tr>\n",
       "      <th>353</th>\n",
       "      <td>5442</td>\n",
       "      <td>Unjárga - Nesseby</td>\n",
       "    </tr>\n",
       "    <tr>\n",
       "      <th>354</th>\n",
       "      <td>5443</td>\n",
       "      <td>Båtsfjord</td>\n",
       "    </tr>\n",
       "    <tr>\n",
       "      <th>355</th>\n",
       "      <td>5444</td>\n",
       "      <td>Sør-Varanger</td>\n",
       "    </tr>\n",
       "  </tbody>\n",
       "</table>\n",
       "<p>356 rows × 2 columns</p>\n",
       "</div>"
      ],
      "text/plain": [
       "    KOMMUNENR               NAVN\n",
       "0        0301               Oslo\n",
       "1        1101          Eigersund\n",
       "2        1103          Stavanger\n",
       "3        1106          Haugesund\n",
       "4        1108            Sandnes\n",
       "..        ...                ...\n",
       "351      5440           Berlevåg\n",
       "352      5441      Deatnu - Tana\n",
       "353      5442  Unjárga - Nesseby\n",
       "354      5443          Båtsfjord\n",
       "355      5444       Sør-Varanger\n",
       "\n",
       "[356 rows x 2 columns]"
      ]
     },
     "execution_count": 4,
     "metadata": {},
     "output_type": "execute_result"
    }
   ],
   "source": [
    "kommuner_fra_api(2022, navn=True)"
   ]
  },
  {
   "cell_type": "code",
   "execution_count": 5,
   "metadata": {},
   "outputs": [
    {
     "data": {
      "text/html": [
       "<div>\n",
       "<style scoped>\n",
       "    .dataframe tbody tr th:only-of-type {\n",
       "        vertical-align: middle;\n",
       "    }\n",
       "\n",
       "    .dataframe tbody tr th {\n",
       "        vertical-align: top;\n",
       "    }\n",
       "\n",
       "    .dataframe thead th {\n",
       "        text-align: right;\n",
       "    }\n",
       "</style>\n",
       "<table border=\"1\" class=\"dataframe\">\n",
       "  <thead>\n",
       "    <tr style=\"text-align: right;\">\n",
       "      <th></th>\n",
       "      <th>KOMMUNENR</th>\n",
       "      <th>NAVN</th>\n",
       "    </tr>\n",
       "  </thead>\n",
       "  <tbody>\n",
       "    <tr>\n",
       "      <th>56</th>\n",
       "      <td>1816</td>\n",
       "      <td>Vevelstad</td>\n",
       "    </tr>\n",
       "    <tr>\n",
       "      <th>6</th>\n",
       "      <td>1112</td>\n",
       "      <td>Lund</td>\n",
       "    </tr>\n",
       "    <tr>\n",
       "      <th>124</th>\n",
       "      <td>3037</td>\n",
       "      <td>Hurdal</td>\n",
       "    </tr>\n",
       "    <tr>\n",
       "      <th>145</th>\n",
       "      <td>3407</td>\n",
       "      <td>Gjøvik</td>\n",
       "    </tr>\n",
       "    <tr>\n",
       "      <th>191</th>\n",
       "      <td>3804</td>\n",
       "      <td>Sandefjord</td>\n",
       "    </tr>\n",
       "  </tbody>\n",
       "</table>\n",
       "</div>"
      ],
      "text/plain": [
       "    KOMMUNENR        NAVN\n",
       "56       1816   Vevelstad\n",
       "6        1112        Lund\n",
       "124      3037      Hurdal\n",
       "145      3407      Gjøvik\n",
       "191      3804  Sandefjord"
      ]
     },
     "execution_count": 5,
     "metadata": {},
     "output_type": "execute_result"
    }
   ],
   "source": [
    "kommuner_fra_api(2022, navn=True, utvalg=5)"
   ]
  },
  {
   "cell_type": "markdown",
   "metadata": {},
   "source": [
    "### fylker_fra_api()"
   ]
  },
  {
   "cell_type": "code",
   "execution_count": 6,
   "metadata": {},
   "outputs": [
    {
     "data": {
      "text/html": [
       "<div>\n",
       "<style scoped>\n",
       "    .dataframe tbody tr th:only-of-type {\n",
       "        vertical-align: middle;\n",
       "    }\n",
       "\n",
       "    .dataframe tbody tr th {\n",
       "        vertical-align: top;\n",
       "    }\n",
       "\n",
       "    .dataframe thead th {\n",
       "        text-align: right;\n",
       "    }\n",
       "</style>\n",
       "<table border=\"1\" class=\"dataframe\">\n",
       "  <thead>\n",
       "    <tr style=\"text-align: right;\">\n",
       "      <th></th>\n",
       "      <th>FYLKE</th>\n",
       "      <th>NAVN</th>\n",
       "    </tr>\n",
       "  </thead>\n",
       "  <tbody>\n",
       "    <tr>\n",
       "      <th>0</th>\n",
       "      <td>03</td>\n",
       "      <td>Oslo</td>\n",
       "    </tr>\n",
       "    <tr>\n",
       "      <th>1</th>\n",
       "      <td>11</td>\n",
       "      <td>Rogaland</td>\n",
       "    </tr>\n",
       "    <tr>\n",
       "      <th>2</th>\n",
       "      <td>15</td>\n",
       "      <td>Møre og Romsdal</td>\n",
       "    </tr>\n",
       "    <tr>\n",
       "      <th>3</th>\n",
       "      <td>18</td>\n",
       "      <td>Nordland - Nordlánnda</td>\n",
       "    </tr>\n",
       "    <tr>\n",
       "      <th>4</th>\n",
       "      <td>30</td>\n",
       "      <td>Viken</td>\n",
       "    </tr>\n",
       "    <tr>\n",
       "      <th>5</th>\n",
       "      <td>34</td>\n",
       "      <td>Innlandet</td>\n",
       "    </tr>\n",
       "    <tr>\n",
       "      <th>6</th>\n",
       "      <td>38</td>\n",
       "      <td>Vestfold og Telemark</td>\n",
       "    </tr>\n",
       "    <tr>\n",
       "      <th>7</th>\n",
       "      <td>42</td>\n",
       "      <td>Agder</td>\n",
       "    </tr>\n",
       "    <tr>\n",
       "      <th>8</th>\n",
       "      <td>46</td>\n",
       "      <td>Vestland</td>\n",
       "    </tr>\n",
       "    <tr>\n",
       "      <th>9</th>\n",
       "      <td>50</td>\n",
       "      <td>Trøndelag - Trööndelage</td>\n",
       "    </tr>\n",
       "    <tr>\n",
       "      <th>10</th>\n",
       "      <td>54</td>\n",
       "      <td>Troms og Finnmark - Romsa ja Finnmárku - Troms...</td>\n",
       "    </tr>\n",
       "  </tbody>\n",
       "</table>\n",
       "</div>"
      ],
      "text/plain": [
       "   FYLKE                                               NAVN\n",
       "0     03                                               Oslo\n",
       "1     11                                           Rogaland\n",
       "2     15                                    Møre og Romsdal\n",
       "3     18                              Nordland - Nordlánnda\n",
       "4     30                                              Viken\n",
       "5     34                                          Innlandet\n",
       "6     38                               Vestfold og Telemark\n",
       "7     42                                              Agder\n",
       "8     46                                           Vestland\n",
       "9     50                            Trøndelag - Trööndelage\n",
       "10    54  Troms og Finnmark - Romsa ja Finnmárku - Troms..."
      ]
     },
     "execution_count": 6,
     "metadata": {},
     "output_type": "execute_result"
    }
   ],
   "source": [
    "fylker_fra_api(navn=True)"
   ]
  },
  {
   "cell_type": "markdown",
   "metadata": {},
   "source": [
    "### kommunenavn() og fylkesnavn()"
   ]
  },
  {
   "cell_type": "code",
   "execution_count": 7,
   "metadata": {},
   "outputs": [
    {
     "data": {
      "text/plain": [
       "'Oslo'"
      ]
     },
     "execution_count": 7,
     "metadata": {},
     "output_type": "execute_result"
    }
   ],
   "source": [
    "kommunenavn(\"0301\")"
   ]
  },
  {
   "cell_type": "code",
   "execution_count": 8,
   "metadata": {},
   "outputs": [
    {
     "data": {
      "text/plain": [
       "['Oslo', 'Kongsvinger', 'Halden']"
      ]
     },
     "execution_count": 8,
     "metadata": {},
     "output_type": "execute_result"
    }
   ],
   "source": [
    "# godtar også tall og gamle kommunenumre (alle må være fra samme år)\n",
    "kommunenavn([301, 402.000, \"0101\"])"
   ]
  },
  {
   "cell_type": "code",
   "execution_count": 9,
   "metadata": {},
   "outputs": [
    {
     "name": "stdout",
     "output_type": "stream",
     "text": [
      "KeyError: '0101'\n"
     ]
    }
   ],
   "source": [
    "# man får feilmelding hvis man oppgir både aar og en kommune som ikke finnes det året\n",
    "try:\n",
    "    kommunenavn([\"0301\", \"0101\"], aar=2022)\n",
    "except KeyError as e:\n",
    "    print(\"KeyError: \" + str(e))"
   ]
  },
  {
   "cell_type": "code",
   "execution_count": 10,
   "metadata": {},
   "outputs": [
    {
     "data": {
      "text/plain": [
       "['Oslo', 'Oppland']"
      ]
     },
     "execution_count": 10,
     "metadata": {},
     "output_type": "execute_result"
    }
   ],
   "source": [
    "fylkesnavn([3, 5])"
   ]
  },
  {
   "cell_type": "code",
   "execution_count": 40,
   "metadata": {},
   "outputs": [
    {
     "name": "stdout",
     "output_type": "stream",
     "text": [
      "nr: 0301 - navn: Oslo\n",
      "nr: 1101 - navn: Eigersund\n",
      "nr: 1103 - navn: Stavanger\n",
      "nr: 1106 - navn: Haugesund\n",
      "nr: 1108 - navn: Sandnes\n",
      "nr: 1111 - navn: Sokndal\n"
     ]
    }
   ],
   "source": [
    "kommuneordbok = kommunenavn()\n",
    "\n",
    "#bruker enumerate for å ikke printe alt\n",
    "for i, (kommnr, kommnavn) in enumerate(kommuneordbok.items()):\n",
    "\n",
    "    print(\"nr:\", kommnr, \"- navn:\", kommnavn)\n",
    "\n",
    "    if i==5:\n",
    "        break"
   ]
  },
  {
   "cell_type": "code",
   "execution_count": 42,
   "metadata": {},
   "outputs": [
    {
     "data": {
      "text/plain": [
       "'Kongsvinger'"
      ]
     },
     "execution_count": 42,
     "metadata": {},
     "output_type": "execute_result"
    }
   ],
   "source": [
    "kommuneordbok[\"3401\"]"
   ]
  },
  {
   "cell_type": "markdown",
   "metadata": {},
   "source": [
    "Hvis man har en tabell med kommunenumre og vil ha navn:"
   ]
  },
  {
   "cell_type": "code",
   "execution_count": 13,
   "metadata": {},
   "outputs": [
    {
     "data": {
      "text/html": [
       "<div>\n",
       "<style scoped>\n",
       "    .dataframe tbody tr th:only-of-type {\n",
       "        vertical-align: middle;\n",
       "    }\n",
       "\n",
       "    .dataframe tbody tr th {\n",
       "        vertical-align: top;\n",
       "    }\n",
       "\n",
       "    .dataframe thead th {\n",
       "        text-align: right;\n",
       "    }\n",
       "</style>\n",
       "<table border=\"1\" class=\"dataframe\">\n",
       "  <thead>\n",
       "    <tr style=\"text-align: right;\">\n",
       "      <th></th>\n",
       "      <th>KOMMUNENR</th>\n",
       "      <th>KOMMUNENAVN</th>\n",
       "      <th>FYLKESNAVN</th>\n",
       "    </tr>\n",
       "  </thead>\n",
       "  <tbody>\n",
       "    <tr>\n",
       "      <th>0</th>\n",
       "      <td>0301</td>\n",
       "      <td>Oslo</td>\n",
       "      <td>Oslo</td>\n",
       "    </tr>\n",
       "    <tr>\n",
       "      <th>1</th>\n",
       "      <td>1101</td>\n",
       "      <td>Eigersund</td>\n",
       "      <td>Rogaland</td>\n",
       "    </tr>\n",
       "    <tr>\n",
       "      <th>2</th>\n",
       "      <td>1103</td>\n",
       "      <td>Stavanger</td>\n",
       "      <td>Rogaland</td>\n",
       "    </tr>\n",
       "    <tr>\n",
       "      <th>3</th>\n",
       "      <td>1106</td>\n",
       "      <td>Haugesund</td>\n",
       "      <td>Rogaland</td>\n",
       "    </tr>\n",
       "    <tr>\n",
       "      <th>4</th>\n",
       "      <td>1108</td>\n",
       "      <td>Sandnes</td>\n",
       "      <td>Rogaland</td>\n",
       "    </tr>\n",
       "    <tr>\n",
       "      <th>...</th>\n",
       "      <td>...</td>\n",
       "      <td>...</td>\n",
       "      <td>...</td>\n",
       "    </tr>\n",
       "    <tr>\n",
       "      <th>351</th>\n",
       "      <td>5440</td>\n",
       "      <td>Berlevåg</td>\n",
       "      <td>Troms og Finnmark</td>\n",
       "    </tr>\n",
       "    <tr>\n",
       "      <th>352</th>\n",
       "      <td>5441</td>\n",
       "      <td>Deatnu - Tana</td>\n",
       "      <td>Troms og Finnmark</td>\n",
       "    </tr>\n",
       "    <tr>\n",
       "      <th>353</th>\n",
       "      <td>5442</td>\n",
       "      <td>Unjárga - Nesseby</td>\n",
       "      <td>Troms og Finnmark</td>\n",
       "    </tr>\n",
       "    <tr>\n",
       "      <th>354</th>\n",
       "      <td>5443</td>\n",
       "      <td>Båtsfjord</td>\n",
       "      <td>Troms og Finnmark</td>\n",
       "    </tr>\n",
       "    <tr>\n",
       "      <th>355</th>\n",
       "      <td>5444</td>\n",
       "      <td>Sør-Varanger</td>\n",
       "      <td>Troms og Finnmark</td>\n",
       "    </tr>\n",
       "  </tbody>\n",
       "</table>\n",
       "<p>356 rows × 3 columns</p>\n",
       "</div>"
      ],
      "text/plain": [
       "    KOMMUNENR        KOMMUNENAVN         FYLKESNAVN\n",
       "0        0301               Oslo               Oslo\n",
       "1        1101          Eigersund           Rogaland\n",
       "2        1103          Stavanger           Rogaland\n",
       "3        1106          Haugesund           Rogaland\n",
       "4        1108            Sandnes           Rogaland\n",
       "..        ...                ...                ...\n",
       "351      5440           Berlevåg  Troms og Finnmark\n",
       "352      5441      Deatnu - Tana  Troms og Finnmark\n",
       "353      5442  Unjárga - Nesseby  Troms og Finnmark\n",
       "354      5443          Båtsfjord  Troms og Finnmark\n",
       "355      5444       Sør-Varanger  Troms og Finnmark\n",
       "\n",
       "[356 rows x 3 columns]"
      ]
     },
     "execution_count": 13,
     "metadata": {},
     "output_type": "execute_result"
    }
   ],
   "source": [
    "df = pd.DataFrame({\"KOMMUNENR\": kommuner_fra_api()})\n",
    "\n",
    "df[\"KOMMUNENAVN\"] = df.KOMMUNENR.map(kommunenavn())\n",
    "\n",
    "df[\"FYLKESNAVN\"] = df.KOMMUNENR.str[:2].map(fylkesnavn())\n",
    "\n",
    "df"
   ]
  },
  {
   "cell_type": "code",
   "execution_count": 14,
   "metadata": {},
   "outputs": [
    {
     "data": {
      "text/plain": [
       "{'03': 'Oslo',\n",
       " '11': 'Rogaland',\n",
       " '15': 'Møre og Romsdal',\n",
       " '18': 'Nordland - Nordlánnda',\n",
       " '30': 'Viken',\n",
       " '34': 'Innlandet',\n",
       " '38': 'Vestfold og Telemark',\n",
       " '42': 'Agder',\n",
       " '46': 'Vestland',\n",
       " '50': 'Trøndelag - Trööndelage',\n",
       " '54': 'Troms og Finnmark - Romsa ja Finnmárku - Tromssa ja Finmarkku'}"
      ]
     },
     "execution_count": 14,
     "metadata": {},
     "output_type": "execute_result"
    }
   ],
   "source": [
    "fylkesnavn(samisk=True)"
   ]
  },
  {
   "cell_type": "markdown",
   "metadata": {},
   "source": [
    "### kommunenummer() og fylkesnummer() er likt bare motsatt"
   ]
  },
  {
   "cell_type": "code",
   "execution_count": 41,
   "metadata": {},
   "outputs": [
    {
     "data": {
      "text/plain": [
       "'3401'"
      ]
     },
     "execution_count": 41,
     "metadata": {},
     "output_type": "execute_result"
    }
   ],
   "source": [
    "kommunenummer(\"kongsvinger\")"
   ]
  },
  {
   "cell_type": "code",
   "execution_count": 16,
   "metadata": {},
   "outputs": [
    {
     "data": {
      "text/plain": [
       "'04'"
      ]
     },
     "execution_count": 16,
     "metadata": {},
     "output_type": "execute_result"
    }
   ],
   "source": [
    "fylkesnummer(\"Kongsvinger\", 2012)"
   ]
  },
  {
   "cell_type": "code",
   "execution_count": 17,
   "metadata": {},
   "outputs": [
    {
     "data": {
      "text/plain": [
       "['03', '34']"
      ]
     },
     "execution_count": 17,
     "metadata": {},
     "output_type": "execute_result"
    }
   ],
   "source": [
    "fylkesnummer([\"oslo\", \"kONGSvingER\"])"
   ]
  },
  {
   "cell_type": "code",
   "execution_count": 18,
   "metadata": {},
   "outputs": [
    {
     "data": {
      "text/plain": [
       "['03', '04']"
      ]
     },
     "execution_count": 18,
     "metadata": {},
     "output_type": "execute_result"
    }
   ],
   "source": [
    "fylkesnummer([\"Oslo\", \"Kongsvinger\"], 2012)"
   ]
  },
  {
   "cell_type": "markdown",
   "metadata": {},
   "source": [
    "### nabokommuner()"
   ]
  },
  {
   "cell_type": "code",
   "execution_count": 19,
   "metadata": {},
   "outputs": [
    {
     "data": {
      "text/plain": [
       "['0213', '0229', '0217', '0219', '0605', '0230', '0231', '0233', '0533']"
      ]
     },
     "execution_count": 19,
     "metadata": {},
     "output_type": "execute_result"
    }
   ],
   "source": [
    "nabokommuner(\"0301\")"
   ]
  },
  {
   "cell_type": "code",
   "execution_count": 48,
   "metadata": {},
   "outputs": [
    {
     "data": {
      "text/plain": [
       "['0213', '0229', '0217', '0219', '0605', '0230', '0231', '0233', '0533']"
      ]
     },
     "execution_count": 48,
     "metadata": {},
     "output_type": "execute_result"
    }
   ],
   "source": [
    "nabodict = nabokommuner()\n",
    "nabodict[\"0301\"]"
   ]
  },
  {
   "cell_type": "code",
   "execution_count": 46,
   "metadata": {},
   "outputs": [
    {
     "name": "stdout",
     "output_type": "stream",
     "text": [
      "komm: 0101 - naboer: ['0105', '0128', '0118']\n",
      "komm: 0104 - naboer: ['0136', '0137', '0211']\n",
      "komm: 0105 - naboer: ['0101', '0106', '0135', '0128', '0137', '0127']\n",
      "komm: 0106 - naboer: ['0105', '0135']\n",
      "komm: 0111 - naboer: []\n",
      "komm: 0118 - naboer: ['0101', '0128', '0119']\n"
     ]
    }
   ],
   "source": [
    "# bruker enumerate for å ikke printe alt\n",
    "for i, (kommnr, naboer) in enumerate(nabodict.items()):\n",
    "\n",
    "    print(\"komm:\", kommnr, \"- naboer:\", naboer)\n",
    "\n",
    "    if i==5:\n",
    "        break"
   ]
  },
  {
   "cell_type": "code",
   "execution_count": 21,
   "metadata": {},
   "outputs": [
    {
     "data": {
      "text/plain": [
       "['0213', '0229', '0217', '0219', '0605', '0230', '0231', '0233', '0533']"
      ]
     },
     "execution_count": 21,
     "metadata": {},
     "output_type": "execute_result"
    }
   ],
   "source": [
    "nabokommuner(\"0301\", 2022)"
   ]
  },
  {
   "cell_type": "markdown",
   "metadata": {},
   "source": [
    "### del_i_kommuner() og del_i_fylker()"
   ]
  },
  {
   "cell_type": "code",
   "execution_count": 22,
   "metadata": {},
   "outputs": [
    {
     "data": {
      "text/html": [
       "<div>\n",
       "<style scoped>\n",
       "    .dataframe tbody tr th:only-of-type {\n",
       "        vertical-align: middle;\n",
       "    }\n",
       "\n",
       "    .dataframe tbody tr th {\n",
       "        vertical-align: top;\n",
       "    }\n",
       "\n",
       "    .dataframe thead th {\n",
       "        text-align: right;\n",
       "    }\n",
       "</style>\n",
       "<table border=\"1\" class=\"dataframe\">\n",
       "  <thead>\n",
       "    <tr style=\"text-align: right;\">\n",
       "      <th></th>\n",
       "      <th>streetname</th>\n",
       "      <th>geometry</th>\n",
       "    </tr>\n",
       "  </thead>\n",
       "  <tbody>\n",
       "    <tr>\n",
       "      <th>1442500</th>\n",
       "      <td>Oluf Onsums vei</td>\n",
       "      <td>MULTILINESTRING Z ((264997.831 6647512.153 128...</td>\n",
       "    </tr>\n",
       "    <tr>\n",
       "      <th>1444985</th>\n",
       "      <td>Skogbakken</td>\n",
       "      <td>MULTILINESTRING Z ((263337.588 6646221.396 43....</td>\n",
       "    </tr>\n",
       "    <tr>\n",
       "      <th>1210166</th>\n",
       "      <td>Fjellstadveien</td>\n",
       "      <td>MULTILINESTRING Z ((275656.500 6628647.200 145...</td>\n",
       "    </tr>\n",
       "    <tr>\n",
       "      <th>1462977</th>\n",
       "      <td>Olasrudveien</td>\n",
       "      <td>MULTILINESTRING Z ((266483.800 6642492.900 164...</td>\n",
       "    </tr>\n",
       "    <tr>\n",
       "      <th>1257719</th>\n",
       "      <td>Nittedalsveien</td>\n",
       "      <td>MULTILINESTRING Z ((272529.548 6657797.148 208...</td>\n",
       "    </tr>\n",
       "    <tr>\n",
       "      <th>...</th>\n",
       "      <td>...</td>\n",
       "      <td>...</td>\n",
       "    </tr>\n",
       "    <tr>\n",
       "      <th>195588</th>\n",
       "      <td>Myllavegen</td>\n",
       "      <td>MULTILINESTRING Z ((259606.840 6687956.190 384...</td>\n",
       "    </tr>\n",
       "    <tr>\n",
       "      <th>1407497</th>\n",
       "      <td>Rv226</td>\n",
       "      <td>MULTILINESTRING Z ((279366.611 6657711.958 188...</td>\n",
       "    </tr>\n",
       "    <tr>\n",
       "      <th>1192296</th>\n",
       "      <td>Ringsveien</td>\n",
       "      <td>MULTILINESTRING Z ((254117.000 6649587.700 45....</td>\n",
       "    </tr>\n",
       "    <tr>\n",
       "      <th>1439080</th>\n",
       "      <td>Vestre Holmenfaret</td>\n",
       "      <td>MULTILINESTRING Z ((258430.591 6653374.355 124...</td>\n",
       "    </tr>\n",
       "    <tr>\n",
       "      <th>1426851</th>\n",
       "      <td>Brobekkveien</td>\n",
       "      <td>MULTILINESTRING Z ((266737.880 6652402.216 142...</td>\n",
       "    </tr>\n",
       "  </tbody>\n",
       "</table>\n",
       "<p>1000 rows × 2 columns</p>\n",
       "</div>"
      ],
      "text/plain": [
       "                 streetname                                           geometry\n",
       "1442500     Oluf Onsums vei  MULTILINESTRING Z ((264997.831 6647512.153 128...\n",
       "1444985          Skogbakken  MULTILINESTRING Z ((263337.588 6646221.396 43....\n",
       "1210166      Fjellstadveien  MULTILINESTRING Z ((275656.500 6628647.200 145...\n",
       "1462977        Olasrudveien  MULTILINESTRING Z ((266483.800 6642492.900 164...\n",
       "1257719      Nittedalsveien  MULTILINESTRING Z ((272529.548 6657797.148 208...\n",
       "...                     ...                                                ...\n",
       "195588           Myllavegen  MULTILINESTRING Z ((259606.840 6687956.190 384...\n",
       "1407497               Rv226  MULTILINESTRING Z ((279366.611 6657711.958 188...\n",
       "1192296          Ringsveien  MULTILINESTRING Z ((254117.000 6649587.700 45....\n",
       "1439080  Vestre Holmenfaret  MULTILINESTRING Z ((258430.591 6653374.355 124...\n",
       "1426851        Brobekkveien  MULTILINESTRING Z ((266737.880 6652402.216 142...\n",
       "\n",
       "[1000 rows x 2 columns]"
      ]
     },
     "execution_count": 22,
     "metadata": {},
     "output_type": "execute_result"
    }
   ],
   "source": [
    "gdf = gpd.read_parquet(r\"C:\\Users\\ort\\OneDrive - Statistisk sentralbyrå\\data\\veger_oslo_og_naboer2.parquet\")\n",
    "gdf = gdf[[\"streetname\", \"geometry\"]].sample(1000)\n",
    "gdf"
   ]
  },
  {
   "cell_type": "code",
   "execution_count": 23,
   "metadata": {},
   "outputs": [
    {
     "data": {
      "text/html": [
       "<div>\n",
       "<style scoped>\n",
       "    .dataframe tbody tr th:only-of-type {\n",
       "        vertical-align: middle;\n",
       "    }\n",
       "\n",
       "    .dataframe tbody tr th {\n",
       "        vertical-align: top;\n",
       "    }\n",
       "\n",
       "    .dataframe thead th {\n",
       "        text-align: right;\n",
       "    }\n",
       "</style>\n",
       "<table border=\"1\" class=\"dataframe\">\n",
       "  <thead>\n",
       "    <tr style=\"text-align: right;\">\n",
       "      <th></th>\n",
       "      <th>streetname</th>\n",
       "      <th>KOMMUNENR</th>\n",
       "      <th>geometry</th>\n",
       "    </tr>\n",
       "  </thead>\n",
       "  <tbody>\n",
       "    <tr>\n",
       "      <th>25</th>\n",
       "      <td>Larsbråtveien</td>\n",
       "      <td>0301</td>\n",
       "      <td>LINESTRING Z (268559.003 6649388.939 207.035, ...</td>\n",
       "    </tr>\n",
       "    <tr>\n",
       "      <th>84</th>\n",
       "      <td>Inga Bjørnsons vei</td>\n",
       "      <td>0301</td>\n",
       "      <td>LINESTRING Z (272868.697 6654843.298 202.236, ...</td>\n",
       "    </tr>\n",
       "    <tr>\n",
       "      <th>361</th>\n",
       "      <td>Lundveien</td>\n",
       "      <td>0301</td>\n",
       "      <td>LINESTRING Z (265568.692 6647892.565 133.721, ...</td>\n",
       "    </tr>\n",
       "    <tr>\n",
       "      <th>158</th>\n",
       "      <td>Gamle Bygdevei</td>\n",
       "      <td>0301</td>\n",
       "      <td>LINESTRING Z (266224.498 6642921.200 143.319, ...</td>\n",
       "    </tr>\n",
       "    <tr>\n",
       "      <th>421</th>\n",
       "      <td>Uelands gate</td>\n",
       "      <td>0301</td>\n",
       "      <td>LINESTRING Z (262566.300 6651799.690 61.890, 2...</td>\n",
       "    </tr>\n",
       "    <tr>\n",
       "      <th>915</th>\n",
       "      <td>Ellingsrudveien</td>\n",
       "      <td>0213</td>\n",
       "      <td>LINESTRING Z (266246.240 6626580.950 144.577, ...</td>\n",
       "    </tr>\n",
       "    <tr>\n",
       "      <th>12</th>\n",
       "      <td>Langsetveien</td>\n",
       "      <td>0301</td>\n",
       "      <td>LINESTRING Z (265200.050 6655234.790 210.570, ...</td>\n",
       "    </tr>\n",
       "    <tr>\n",
       "      <th>360</th>\n",
       "      <td>Lillevannsveien</td>\n",
       "      <td>0301</td>\n",
       "      <td>LINESTRING Z (257903.895 6654904.597 273.018, ...</td>\n",
       "    </tr>\n",
       "    <tr>\n",
       "      <th>338</th>\n",
       "      <td>Karl Staaffs vei</td>\n",
       "      <td>0301</td>\n",
       "      <td>LINESTRING Z (266131.800 6649830.900 99.762, 2...</td>\n",
       "    </tr>\n",
       "    <tr>\n",
       "      <th>27</th>\n",
       "      <td>Birger Olivers vei</td>\n",
       "      <td>0301</td>\n",
       "      <td>LINESTRING Z (264628.397 6644924.957 133.796, ...</td>\n",
       "    </tr>\n",
       "  </tbody>\n",
       "</table>\n",
       "</div>"
      ],
      "text/plain": [
       "             streetname KOMMUNENR  \\\n",
       "25        Larsbråtveien      0301   \n",
       "84   Inga Bjørnsons vei      0301   \n",
       "361           Lundveien      0301   \n",
       "158      Gamle Bygdevei      0301   \n",
       "421        Uelands gate      0301   \n",
       "915     Ellingsrudveien      0213   \n",
       "12         Langsetveien      0301   \n",
       "360     Lillevannsveien      0301   \n",
       "338    Karl Staaffs vei      0301   \n",
       "27   Birger Olivers vei      0301   \n",
       "\n",
       "                                              geometry  \n",
       "25   LINESTRING Z (268559.003 6649388.939 207.035, ...  \n",
       "84   LINESTRING Z (272868.697 6654843.298 202.236, ...  \n",
       "361  LINESTRING Z (265568.692 6647892.565 133.721, ...  \n",
       "158  LINESTRING Z (266224.498 6642921.200 143.319, ...  \n",
       "421  LINESTRING Z (262566.300 6651799.690 61.890, 2...  \n",
       "915  LINESTRING Z (266246.240 6626580.950 144.577, ...  \n",
       "12   LINESTRING Z (265200.050 6655234.790 210.570, ...  \n",
       "360  LINESTRING Z (257903.895 6654904.597 273.018, ...  \n",
       "338  LINESTRING Z (266131.800 6649830.900 99.762, 2...  \n",
       "27   LINESTRING Z (264628.397 6644924.957 133.796, ...  "
      ]
     },
     "execution_count": 23,
     "metadata": {},
     "output_type": "execute_result"
    }
   ],
   "source": [
    "gdf_kommunedelt = del_i_kommuner(gdf)\n",
    "gdf_kommunedelt.sample(10)"
   ]
  },
  {
   "cell_type": "code",
   "execution_count": 24,
   "metadata": {},
   "outputs": [
    {
     "data": {
      "text/html": [
       "<div>\n",
       "<style scoped>\n",
       "    .dataframe tbody tr th:only-of-type {\n",
       "        vertical-align: middle;\n",
       "    }\n",
       "\n",
       "    .dataframe tbody tr th {\n",
       "        vertical-align: top;\n",
       "    }\n",
       "\n",
       "    .dataframe thead th {\n",
       "        text-align: right;\n",
       "    }\n",
       "</style>\n",
       "<table border=\"1\" class=\"dataframe\">\n",
       "  <thead>\n",
       "    <tr style=\"text-align: right;\">\n",
       "      <th></th>\n",
       "      <th>streetname</th>\n",
       "      <th>KOMMUNENR</th>\n",
       "      <th>FYLKE</th>\n",
       "      <th>geometry</th>\n",
       "    </tr>\n",
       "  </thead>\n",
       "  <tbody>\n",
       "    <tr>\n",
       "      <th>878</th>\n",
       "      <td>Delebekken</td>\n",
       "      <td>0213</td>\n",
       "      <td>02</td>\n",
       "      <td>LINESTRING Z (269036.900 6638100.000 175.862, ...</td>\n",
       "    </tr>\n",
       "    <tr>\n",
       "      <th>780</th>\n",
       "      <td>Rv226</td>\n",
       "      <td>0231</td>\n",
       "      <td>02</td>\n",
       "      <td>LINESTRING Z (279373.989 6657693.982 187.288, ...</td>\n",
       "    </tr>\n",
       "    <tr>\n",
       "      <th>329</th>\n",
       "      <td>Havnehagan</td>\n",
       "      <td>0301</td>\n",
       "      <td>03</td>\n",
       "      <td>LINESTRING Z (262772.003 6654074.757 135.171, ...</td>\n",
       "    </tr>\n",
       "    <tr>\n",
       "      <th>270</th>\n",
       "      <td>Lindebergåsen</td>\n",
       "      <td>0301</td>\n",
       "      <td>03</td>\n",
       "      <td>LINESTRING Z (269790.098 6650634.204 177.827, ...</td>\n",
       "    </tr>\n",
       "    <tr>\n",
       "      <th>394</th>\n",
       "      <td>Sørkedalsveien</td>\n",
       "      <td>0301</td>\n",
       "      <td>03</td>\n",
       "      <td>LINESTRING Z (258348.000 6652835.900 99.957, 2...</td>\n",
       "    </tr>\n",
       "    <tr>\n",
       "      <th>553</th>\n",
       "      <td>E18</td>\n",
       "      <td>0301</td>\n",
       "      <td>03</td>\n",
       "      <td>LINESTRING Z (258319.425 6650479.948 3.100, 25...</td>\n",
       "    </tr>\n",
       "    <tr>\n",
       "      <th>686</th>\n",
       "      <td>Gjønneshagen</td>\n",
       "      <td>0219</td>\n",
       "      <td>02</td>\n",
       "      <td>LINESTRING Z (252806.790 6650271.800 51.281, 2...</td>\n",
       "    </tr>\n",
       "    <tr>\n",
       "      <th>137</th>\n",
       "      <td>Karihaugveien</td>\n",
       "      <td>0301</td>\n",
       "      <td>03</td>\n",
       "      <td>LINESTRING Z (270894.660 6651677.210 165.598, ...</td>\n",
       "    </tr>\n",
       "    <tr>\n",
       "      <th>593</th>\n",
       "      <td>Hartmanns vei</td>\n",
       "      <td>0219</td>\n",
       "      <td>03</td>\n",
       "      <td>LINESTRING Z (256031.089 6651107.843 80.099, 2...</td>\n",
       "    </tr>\n",
       "    <tr>\n",
       "      <th>983</th>\n",
       "      <td>Råstadbakka</td>\n",
       "      <td>0533</td>\n",
       "      <td>05</td>\n",
       "      <td>LINESTRING Z (257361.799 6693652.142 315.280, ...</td>\n",
       "    </tr>\n",
       "  </tbody>\n",
       "</table>\n",
       "</div>"
      ],
      "text/plain": [
       "         streetname KOMMUNENR FYLKE  \\\n",
       "878      Delebekken      0213    02   \n",
       "780           Rv226      0231    02   \n",
       "329      Havnehagan      0301    03   \n",
       "270   Lindebergåsen      0301    03   \n",
       "394  Sørkedalsveien      0301    03   \n",
       "553             E18      0301    03   \n",
       "686    Gjønneshagen      0219    02   \n",
       "137   Karihaugveien      0301    03   \n",
       "593   Hartmanns vei      0219    03   \n",
       "983     Råstadbakka      0533    05   \n",
       "\n",
       "                                              geometry  \n",
       "878  LINESTRING Z (269036.900 6638100.000 175.862, ...  \n",
       "780  LINESTRING Z (279373.989 6657693.982 187.288, ...  \n",
       "329  LINESTRING Z (262772.003 6654074.757 135.171, ...  \n",
       "270  LINESTRING Z (269790.098 6650634.204 177.827, ...  \n",
       "394  LINESTRING Z (258348.000 6652835.900 99.957, 2...  \n",
       "553  LINESTRING Z (258319.425 6650479.948 3.100, 25...  \n",
       "686  LINESTRING Z (252806.790 6650271.800 51.281, 2...  \n",
       "137  LINESTRING Z (270894.660 6651677.210 165.598, ...  \n",
       "593  LINESTRING Z (256031.089 6651107.843 80.099, 2...  \n",
       "983  LINESTRING Z (257361.799 6693652.142 315.280, ...  "
      ]
     },
     "execution_count": 24,
     "metadata": {},
     "output_type": "execute_result"
    }
   ],
   "source": [
    "gdf_kommunedelt_og_fylkedelt = del_i_fylker(gdf_kommunedelt)\n",
    "gdf_kommunedelt_og_fylkedelt.sample(10)"
   ]
  },
  {
   "cell_type": "code",
   "execution_count": null,
   "metadata": {},
   "outputs": [],
   "source": []
  }
 ],
 "metadata": {
  "kernelspec": {
   "display_name": "Python 3.9.13 ('geo_env39')",
   "language": "python",
   "name": "python3"
  },
  "language_info": {
   "codemirror_mode": {
    "name": "ipython",
    "version": 3
   },
   "file_extension": ".py",
   "mimetype": "text/x-python",
   "name": "python",
   "nbconvert_exporter": "python",
   "pygments_lexer": "ipython3",
   "version": "3.9.13"
  },
  "orig_nbformat": 4,
  "vscode": {
   "interpreter": {
    "hash": "ec506855ce09a0171c1abd104fa4ec7f6a63ded3650b643e1df6c1136fb69d9c"
   }
  }
 },
 "nbformat": 4,
 "nbformat_minor": 2
}
